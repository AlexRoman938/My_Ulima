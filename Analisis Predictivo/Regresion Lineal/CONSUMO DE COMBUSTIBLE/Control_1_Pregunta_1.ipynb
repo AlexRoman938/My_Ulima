{
  "nbformat": 4,
  "nbformat_minor": 0,
  "metadata": {
    "colab": {
      "name": "Control 1 - Pregunta 1.ipynb",
      "provenance": []
    },
    "kernelspec": {
      "name": "python3",
      "display_name": "Python 3"
    },
    "language_info": {
      "name": "python"
    }
  },
  "cells": [
    {
      "cell_type": "code",
      "metadata": {
        "id": "qKahKHrXJPvK"
      },
      "source": [
        "#Name : Alexander Daniel Román Gabriel"
      ],
      "execution_count": null,
      "outputs": []
    },
    {
      "cell_type": "code",
      "metadata": {
        "id": "x07G7A22KQiM"
      },
      "source": [
        "#Libraries\n",
        "import pandas as pd\n",
        "import matplotlib.pyplot as plt\n",
        "from sklearn.linear_model import LinearRegression\n",
        "from sklearn.metrics import r2_score , mean_squared_error , mean_absolute_error\n",
        "import seaborn as sns"
      ],
      "execution_count": null,
      "outputs": []
    },
    {
      "cell_type": "markdown",
      "metadata": {
        "id": "iKrumKTJNWQ6"
      },
      "source": [
        "## READ THE DATA"
      ]
    },
    {
      "cell_type": "code",
      "metadata": {
        "colab": {
          "base_uri": "https://localhost:8080/",
          "height": 204
        },
        "id": "TuUTYDDxKr6s",
        "outputId": "bf784b28-29c4-4f47-ede5-cf58e15d3f3c"
      },
      "source": [
        "df = pd.read_excel('DataSet_Vehiculos_m.xlsx' , sheet_name= \"Sheet1\") #Sheet1 porque ahi estan los datos que queremos\n",
        "df.head()"
      ],
      "execution_count": null,
      "outputs": [
        {
          "output_type": "execute_result",
          "data": {
            "text/html": [
              "<div>\n",
              "<style scoped>\n",
              "    .dataframe tbody tr th:only-of-type {\n",
              "        vertical-align: middle;\n",
              "    }\n",
              "\n",
              "    .dataframe tbody tr th {\n",
              "        vertical-align: top;\n",
              "    }\n",
              "\n",
              "    .dataframe thead th {\n",
              "        text-align: right;\n",
              "    }\n",
              "</style>\n",
              "<table border=\"1\" class=\"dataframe\">\n",
              "  <thead>\n",
              "    <tr style=\"text-align: right;\">\n",
              "      <th></th>\n",
              "      <th>Cylinder</th>\n",
              "      <th>Motor</th>\n",
              "      <th>Horsepower</th>\n",
              "      <th>Weight</th>\n",
              "      <th>Acel</th>\n",
              "      <th>Origen</th>\n",
              "      <th>MPG</th>\n",
              "    </tr>\n",
              "  </thead>\n",
              "  <tbody>\n",
              "    <tr>\n",
              "      <th>0</th>\n",
              "      <td>8</td>\n",
              "      <td>5031</td>\n",
              "      <td>130</td>\n",
              "      <td>4.672</td>\n",
              "      <td>12</td>\n",
              "      <td>US</td>\n",
              "      <td>13</td>\n",
              "    </tr>\n",
              "    <tr>\n",
              "      <th>1</th>\n",
              "      <td>8</td>\n",
              "      <td>5735</td>\n",
              "      <td>165</td>\n",
              "      <td>4.924</td>\n",
              "      <td>12</td>\n",
              "      <td>US</td>\n",
              "      <td>16</td>\n",
              "    </tr>\n",
              "    <tr>\n",
              "      <th>2</th>\n",
              "      <td>8</td>\n",
              "      <td>5211</td>\n",
              "      <td>150</td>\n",
              "      <td>4.580</td>\n",
              "      <td>11</td>\n",
              "      <td>US</td>\n",
              "      <td>13</td>\n",
              "    </tr>\n",
              "    <tr>\n",
              "      <th>3</th>\n",
              "      <td>8</td>\n",
              "      <td>4982</td>\n",
              "      <td>150</td>\n",
              "      <td>4.576</td>\n",
              "      <td>12</td>\n",
              "      <td>US</td>\n",
              "      <td>15</td>\n",
              "    </tr>\n",
              "    <tr>\n",
              "      <th>4</th>\n",
              "      <td>8</td>\n",
              "      <td>4949</td>\n",
              "      <td>140</td>\n",
              "      <td>4.596</td>\n",
              "      <td>11</td>\n",
              "      <td>US</td>\n",
              "      <td>14</td>\n",
              "    </tr>\n",
              "  </tbody>\n",
              "</table>\n",
              "</div>"
            ],
            "text/plain": [
              "   Cylinder  Motor  Horsepower  Weight  Acel Origen  MPG\n",
              "0         8   5031         130   4.672    12     US   13\n",
              "1         8   5735         165   4.924    12     US   16\n",
              "2         8   5211         150   4.580    11     US   13\n",
              "3         8   4982         150   4.576    12     US   15\n",
              "4         8   4949         140   4.596    11     US   14"
            ]
          },
          "metadata": {
            "tags": []
          },
          "execution_count": 3
        }
      ]
    },
    {
      "cell_type": "code",
      "metadata": {
        "colab": {
          "base_uri": "https://localhost:8080/"
        },
        "id": "WXT50cCES1fB",
        "outputId": "38f91b64-51ec-4b53-efff-fc78b41ae009"
      },
      "source": [
        "df.columns"
      ],
      "execution_count": null,
      "outputs": [
        {
          "output_type": "execute_result",
          "data": {
            "text/plain": [
              "Index(['Cylinder', 'Motor', 'Horsepower', 'Weight', 'Acel', 'Origen', 'MPG'], dtype='object')"
            ]
          },
          "metadata": {
            "tags": []
          },
          "execution_count": 5
        }
      ]
    },
    {
      "cell_type": "markdown",
      "metadata": {
        "id": "W22DAzbvNdom"
      },
      "source": [
        "## DATA ANALYSIS"
      ]
    },
    {
      "cell_type": "code",
      "metadata": {
        "colab": {
          "base_uri": "https://localhost:8080/"
        },
        "id": "gkuOu2FdM5np",
        "outputId": "d5fc7731-479c-47fc-de29-1d57d121fc6e"
      },
      "source": [
        "df.info()"
      ],
      "execution_count": null,
      "outputs": [
        {
          "output_type": "stream",
          "text": [
            "<class 'pandas.core.frame.DataFrame'>\n",
            "RangeIndex: 385 entries, 0 to 384\n",
            "Data columns (total 7 columns):\n",
            " #   Column      Non-Null Count  Dtype  \n",
            "---  ------      --------------  -----  \n",
            " 0   Cylinder    385 non-null    int64  \n",
            " 1   Motor       385 non-null    int64  \n",
            " 2   Horsepower  385 non-null    int64  \n",
            " 3   Weight      385 non-null    float64\n",
            " 4   Acel        385 non-null    int64  \n",
            " 5   Origen      385 non-null    object \n",
            " 6   MPG         385 non-null    int64  \n",
            "dtypes: float64(1), int64(5), object(1)\n",
            "memory usage: 21.2+ KB\n"
          ],
          "name": "stdout"
        }
      ]
    },
    {
      "cell_type": "code",
      "metadata": {
        "colab": {
          "base_uri": "https://localhost:8080/",
          "height": 297
        },
        "id": "pi2XSzvNNnll",
        "outputId": "770a6c33-9d10-44e8-ab9f-b9bd51ffcfe6"
      },
      "source": [
        "df.describe()"
      ],
      "execution_count": null,
      "outputs": [
        {
          "output_type": "execute_result",
          "data": {
            "text/html": [
              "<div>\n",
              "<style scoped>\n",
              "    .dataframe tbody tr th:only-of-type {\n",
              "        vertical-align: middle;\n",
              "    }\n",
              "\n",
              "    .dataframe tbody tr th {\n",
              "        vertical-align: top;\n",
              "    }\n",
              "\n",
              "    .dataframe thead th {\n",
              "        text-align: right;\n",
              "    }\n",
              "</style>\n",
              "<table border=\"1\" class=\"dataframe\">\n",
              "  <thead>\n",
              "    <tr style=\"text-align: right;\">\n",
              "      <th></th>\n",
              "      <th>Cylinder</th>\n",
              "      <th>Motor</th>\n",
              "      <th>Horsepower</th>\n",
              "      <th>Weight</th>\n",
              "      <th>Acel</th>\n",
              "      <th>MPG</th>\n",
              "    </tr>\n",
              "  </thead>\n",
              "  <tbody>\n",
              "    <tr>\n",
              "      <th>count</th>\n",
              "      <td>385.000000</td>\n",
              "      <td>385.000000</td>\n",
              "      <td>385.000000</td>\n",
              "      <td>385.000000</td>\n",
              "      <td>385.000000</td>\n",
              "      <td>385.000000</td>\n",
              "    </tr>\n",
              "    <tr>\n",
              "      <th>mean</th>\n",
              "      <td>5.490909</td>\n",
              "      <td>3206.371429</td>\n",
              "      <td>104.428571</td>\n",
              "      <td>3.490799</td>\n",
              "      <td>15.683117</td>\n",
              "      <td>11.238961</td>\n",
              "    </tr>\n",
              "    <tr>\n",
              "      <th>std</th>\n",
              "      <td>1.698819</td>\n",
              "      <td>1714.145914</td>\n",
              "      <td>38.500145</td>\n",
              "      <td>1.336290</td>\n",
              "      <td>2.769505</td>\n",
              "      <td>3.911127</td>\n",
              "    </tr>\n",
              "    <tr>\n",
              "      <th>min</th>\n",
              "      <td>4.000000</td>\n",
              "      <td>1114.000000</td>\n",
              "      <td>46.000000</td>\n",
              "      <td>1.718400</td>\n",
              "      <td>8.000000</td>\n",
              "      <td>5.000000</td>\n",
              "    </tr>\n",
              "    <tr>\n",
              "      <th>25%</th>\n",
              "      <td>4.000000</td>\n",
              "      <td>1721.000000</td>\n",
              "      <td>75.000000</td>\n",
              "      <td>2.374400</td>\n",
              "      <td>14.000000</td>\n",
              "      <td>8.000000</td>\n",
              "    </tr>\n",
              "    <tr>\n",
              "      <th>50%</th>\n",
              "      <td>4.000000</td>\n",
              "      <td>2474.000000</td>\n",
              "      <td>92.000000</td>\n",
              "      <td>3.056000</td>\n",
              "      <td>16.000000</td>\n",
              "      <td>10.000000</td>\n",
              "    </tr>\n",
              "    <tr>\n",
              "      <th>75%</th>\n",
              "      <td>8.000000</td>\n",
              "      <td>4949.000000</td>\n",
              "      <td>129.000000</td>\n",
              "      <td>4.532000</td>\n",
              "      <td>17.000000</td>\n",
              "      <td>14.000000</td>\n",
              "    </tr>\n",
              "    <tr>\n",
              "      <th>max</th>\n",
              "      <td>8.000000</td>\n",
              "      <td>7456.000000</td>\n",
              "      <td>230.000000</td>\n",
              "      <td>6.852000</td>\n",
              "      <td>25.000000</td>\n",
              "      <td>24.000000</td>\n",
              "    </tr>\n",
              "  </tbody>\n",
              "</table>\n",
              "</div>"
            ],
            "text/plain": [
              "         Cylinder        Motor  Horsepower      Weight        Acel         MPG\n",
              "count  385.000000   385.000000  385.000000  385.000000  385.000000  385.000000\n",
              "mean     5.490909  3206.371429  104.428571    3.490799   15.683117   11.238961\n",
              "std      1.698819  1714.145914   38.500145    1.336290    2.769505    3.911127\n",
              "min      4.000000  1114.000000   46.000000    1.718400    8.000000    5.000000\n",
              "25%      4.000000  1721.000000   75.000000    2.374400   14.000000    8.000000\n",
              "50%      4.000000  2474.000000   92.000000    3.056000   16.000000   10.000000\n",
              "75%      8.000000  4949.000000  129.000000    4.532000   17.000000   14.000000\n",
              "max      8.000000  7456.000000  230.000000    6.852000   25.000000   24.000000"
            ]
          },
          "metadata": {
            "tags": []
          },
          "execution_count": 7
        }
      ]
    },
    {
      "cell_type": "code",
      "metadata": {
        "colab": {
          "base_uri": "https://localhost:8080/",
          "height": 336
        },
        "id": "V79zwU9FPgPm",
        "outputId": "d31792bc-e8c7-41a4-b035-187b6811a579"
      },
      "source": [
        "#Correlation\n",
        "sns.heatmap(df.corr() , annot = True , fmt = '.3g' , vmin = -1 , vmax = 1 , cmap = 'coolwarm' ,\n",
        "            linewidths=3, linecolor='black')"
      ],
      "execution_count": null,
      "outputs": [
        {
          "output_type": "execute_result",
          "data": {
            "text/plain": [
              "<matplotlib.axes._subplots.AxesSubplot at 0x7fc00a78f450>"
            ]
          },
          "metadata": {
            "tags": []
          },
          "execution_count": 8
        },
        {
          "output_type": "display_data",
          "data": {
            "image/png": "[encoded data removed]",
            "text/plain": [
              "<Figure size 432x288 with 2 Axes>"
            ]
          },
          "metadata": {
            "tags": [],
            "needs_background": "light"
          }
        }
      ]
    },
    {
      "cell_type": "code",
      "metadata": {
        "colab": {
          "base_uri": "https://localhost:8080/",
          "height": 343
        },
        "id": "rMmH5H_9QjcF",
        "outputId": "58103cc2-07a3-4a34-ecb7-d24deab2287e"
      },
      "source": [
        "#Covariance\n",
        "sns.heatmap(df.cov() , annot = True , fmt = '.2g' , cmap = 'coolwarm')"
      ],
      "execution_count": null,
      "outputs": [
        {
          "output_type": "execute_result",
          "data": {
            "text/plain": [
              "<matplotlib.axes._subplots.AxesSubplot at 0x7fb1dbe42110>"
            ]
          },
          "metadata": {
            "tags": []
          },
          "execution_count": 34
        },
        {
          "output_type": "display_data",
          "data": {
            "image/png": "[encoded data removed]",
            "text/plain": [
              "<Figure size 432x288 with 2 Axes>"
            ]
          },
          "metadata": {
            "tags": [],
            "needs_background": "light"
          }
        }
      ]
    },
    {
      "cell_type": "markdown",
      "metadata": {
        "id": "XrZOMioRR4OZ"
      },
      "source": [
        "## USING LINEAR REGRESSION"
      ]
    },
    {
      "cell_type": "code",
      "metadata": {
        "id": "0eif3lkfSMLn"
      },
      "source": [
        "#Create linear regression model called \"regression\"\n",
        "regression = LinearRegression()"
      ],
      "execution_count": null,
      "outputs": []
    },
    {
      "cell_type": "code",
      "metadata": {
        "colab": {
          "base_uri": "https://localhost:8080/",
          "height": 419
        },
        "id": "V5FrpkWzUodZ",
        "outputId": "a0f2726e-d484-4eec-982b-b55f24b6e646"
      },
      "source": [
        "#I don't want Origen column  . Then , I going to erase it\n",
        "df.drop('Origen', axis = 1)"
      ],
      "execution_count": null,
      "outputs": [
        {
          "output_type": "execute_result",
          "data": {
            "text/html": [
              "<div>\n",
              "<style scoped>\n",
              "    .dataframe tbody tr th:only-of-type {\n",
              "        vertical-align: middle;\n",
              "    }\n",
              "\n",
              "    .dataframe tbody tr th {\n",
              "        vertical-align: top;\n",
              "    }\n",
              "\n",
              "    .dataframe thead th {\n",
              "        text-align: right;\n",
              "    }\n",
              "</style>\n",
              "<table border=\"1\" class=\"dataframe\">\n",
              "  <thead>\n",
              "    <tr style=\"text-align: right;\">\n",
              "      <th></th>\n",
              "      <th>Cylinder</th>\n",
              "      <th>Motor</th>\n",
              "      <th>Horsepower</th>\n",
              "      <th>Weight</th>\n",
              "      <th>Acel</th>\n",
              "      <th>MPG</th>\n",
              "    </tr>\n",
              "  </thead>\n",
              "  <tbody>\n",
              "    <tr>\n",
              "      <th>0</th>\n",
              "      <td>8</td>\n",
              "      <td>5031</td>\n",
              "      <td>130</td>\n",
              "      <td>4.6720</td>\n",
              "      <td>12</td>\n",
              "      <td>13</td>\n",
              "    </tr>\n",
              "    <tr>\n",
              "      <th>1</th>\n",
              "      <td>8</td>\n",
              "      <td>5735</td>\n",
              "      <td>165</td>\n",
              "      <td>4.9240</td>\n",
              "      <td>12</td>\n",
              "      <td>16</td>\n",
              "    </tr>\n",
              "    <tr>\n",
              "      <th>2</th>\n",
              "      <td>8</td>\n",
              "      <td>5211</td>\n",
              "      <td>150</td>\n",
              "      <td>4.5800</td>\n",
              "      <td>11</td>\n",
              "      <td>13</td>\n",
              "    </tr>\n",
              "    <tr>\n",
              "      <th>3</th>\n",
              "      <td>8</td>\n",
              "      <td>4982</td>\n",
              "      <td>150</td>\n",
              "      <td>4.5760</td>\n",
              "      <td>12</td>\n",
              "      <td>15</td>\n",
              "    </tr>\n",
              "    <tr>\n",
              "      <th>4</th>\n",
              "      <td>8</td>\n",
              "      <td>4949</td>\n",
              "      <td>140</td>\n",
              "      <td>4.5960</td>\n",
              "      <td>11</td>\n",
              "      <td>14</td>\n",
              "    </tr>\n",
              "    <tr>\n",
              "      <th>...</th>\n",
              "      <td>...</td>\n",
              "      <td>...</td>\n",
              "      <td>...</td>\n",
              "      <td>...</td>\n",
              "      <td>...</td>\n",
              "      <td>...</td>\n",
              "    </tr>\n",
              "    <tr>\n",
              "      <th>380</th>\n",
              "      <td>4</td>\n",
              "      <td>2294</td>\n",
              "      <td>86</td>\n",
              "      <td>2.9760</td>\n",
              "      <td>16</td>\n",
              "      <td>9</td>\n",
              "    </tr>\n",
              "    <tr>\n",
              "      <th>381</th>\n",
              "      <td>4</td>\n",
              "      <td>1590</td>\n",
              "      <td>52</td>\n",
              "      <td>2.2720</td>\n",
              "      <td>25</td>\n",
              "      <td>5</td>\n",
              "    </tr>\n",
              "    <tr>\n",
              "      <th>382</th>\n",
              "      <td>4</td>\n",
              "      <td>2212</td>\n",
              "      <td>84</td>\n",
              "      <td>2.4480</td>\n",
              "      <td>12</td>\n",
              "      <td>7</td>\n",
              "    </tr>\n",
              "    <tr>\n",
              "      <th>383</th>\n",
              "      <td>4</td>\n",
              "      <td>1966</td>\n",
              "      <td>79</td>\n",
              "      <td>2.8000</td>\n",
              "      <td>19</td>\n",
              "      <td>8</td>\n",
              "    </tr>\n",
              "    <tr>\n",
              "      <th>384</th>\n",
              "      <td>4</td>\n",
              "      <td>1950</td>\n",
              "      <td>82</td>\n",
              "      <td>2.8992</td>\n",
              "      <td>19</td>\n",
              "      <td>8</td>\n",
              "    </tr>\n",
              "  </tbody>\n",
              "</table>\n",
              "<p>385 rows × 6 columns</p>\n",
              "</div>"
            ],
            "text/plain": [
              "     Cylinder  Motor  Horsepower  Weight  Acel  MPG\n",
              "0           8   5031         130  4.6720    12   13\n",
              "1           8   5735         165  4.9240    12   16\n",
              "2           8   5211         150  4.5800    11   13\n",
              "3           8   4982         150  4.5760    12   15\n",
              "4           8   4949         140  4.5960    11   14\n",
              "..        ...    ...         ...     ...   ...  ...\n",
              "380         4   2294          86  2.9760    16    9\n",
              "381         4   1590          52  2.2720    25    5\n",
              "382         4   2212          84  2.4480    12    7\n",
              "383         4   1966          79  2.8000    19    8\n",
              "384         4   1950          82  2.8992    19    8\n",
              "\n",
              "[385 rows x 6 columns]"
            ]
          },
          "metadata": {
            "tags": []
          },
          "execution_count": 10
        }
      ]
    },
    {
      "cell_type": "code",
      "metadata": {
        "id": "vDe7ld-vSquE"
      },
      "source": [
        "#Select your variables --> x : features variables , y : target variable\n",
        "x = df[['Cylinder', 'Motor', 'Horsepower', 'Weight', 'Acel']]\n",
        "y = df['MPG']"
      ],
      "execution_count": null,
      "outputs": []
    },
    {
      "cell_type": "code",
      "metadata": {
        "colab": {
          "base_uri": "https://localhost:8080/"
        },
        "id": "Bb4vFbjOTJ4z",
        "outputId": "726d771a-3266-4ecb-beb1-77de83f0d2e7"
      },
      "source": [
        "#Train the model\n",
        "regression.fit(x,y)"
      ],
      "execution_count": null,
      "outputs": [
        {
          "output_type": "execute_result",
          "data": {
            "text/plain": [
              "LinearRegression(copy_X=True, fit_intercept=True, n_jobs=None, normalize=False)"
            ]
          },
          "metadata": {
            "tags": []
          },
          "execution_count": 12
        }
      ]
    },
    {
      "cell_type": "code",
      "metadata": {
        "id": "BwqnVrFCTrXH"
      },
      "source": [
        "mpg_predict = regression.predict(x)"
      ],
      "execution_count": null,
      "outputs": []
    },
    {
      "cell_type": "code",
      "metadata": {
        "colab": {
          "base_uri": "https://localhost:8080/",
          "height": 204
        },
        "id": "0QVbO02kVYsW",
        "outputId": "32dbe170-2546-4515-a738-0dd6e5b4cc7f"
      },
      "source": [
        "#mpg into dataframe \"df\"\n",
        "df['MPG PREDICT'] = mpg_predict\n",
        "df.head() #check it"
      ],
      "execution_count": null,
      "outputs": [
        {
          "output_type": "execute_result",
          "data": {
            "text/html": [
              "<div>\n",
              "<style scoped>\n",
              "    .dataframe tbody tr th:only-of-type {\n",
              "        vertical-align: middle;\n",
              "    }\n",
              "\n",
              "    .dataframe tbody tr th {\n",
              "        vertical-align: top;\n",
              "    }\n",
              "\n",
              "    .dataframe thead th {\n",
              "        text-align: right;\n",
              "    }\n",
              "</style>\n",
              "<table border=\"1\" class=\"dataframe\">\n",
              "  <thead>\n",
              "    <tr style=\"text-align: right;\">\n",
              "      <th></th>\n",
              "      <th>Cylinder</th>\n",
              "      <th>Motor</th>\n",
              "      <th>Horsepower</th>\n",
              "      <th>Weight</th>\n",
              "      <th>Acel</th>\n",
              "      <th>Origen</th>\n",
              "      <th>MPG</th>\n",
              "      <th>MPG PREDICT</th>\n",
              "    </tr>\n",
              "  </thead>\n",
              "  <tbody>\n",
              "    <tr>\n",
              "      <th>0</th>\n",
              "      <td>8</td>\n",
              "      <td>5031</td>\n",
              "      <td>130</td>\n",
              "      <td>4.672</td>\n",
              "      <td>12</td>\n",
              "      <td>US</td>\n",
              "      <td>13</td>\n",
              "      <td>14.090899</td>\n",
              "    </tr>\n",
              "    <tr>\n",
              "      <th>1</th>\n",
              "      <td>8</td>\n",
              "      <td>5735</td>\n",
              "      <td>165</td>\n",
              "      <td>4.924</td>\n",
              "      <td>12</td>\n",
              "      <td>US</td>\n",
              "      <td>16</td>\n",
              "      <td>15.937399</td>\n",
              "    </tr>\n",
              "    <tr>\n",
              "      <th>2</th>\n",
              "      <td>8</td>\n",
              "      <td>5211</td>\n",
              "      <td>150</td>\n",
              "      <td>4.580</td>\n",
              "      <td>11</td>\n",
              "      <td>US</td>\n",
              "      <td>13</td>\n",
              "      <td>14.603516</td>\n",
              "    </tr>\n",
              "    <tr>\n",
              "      <th>3</th>\n",
              "      <td>8</td>\n",
              "      <td>4982</td>\n",
              "      <td>150</td>\n",
              "      <td>4.576</td>\n",
              "      <td>12</td>\n",
              "      <td>US</td>\n",
              "      <td>15</td>\n",
              "      <td>14.676417</td>\n",
              "    </tr>\n",
              "    <tr>\n",
              "      <th>4</th>\n",
              "      <td>8</td>\n",
              "      <td>4949</td>\n",
              "      <td>140</td>\n",
              "      <td>4.596</td>\n",
              "      <td>11</td>\n",
              "      <td>US</td>\n",
              "      <td>14</td>\n",
              "      <td>14.154142</td>\n",
              "    </tr>\n",
              "  </tbody>\n",
              "</table>\n",
              "</div>"
            ],
            "text/plain": [
              "   Cylinder  Motor  Horsepower  Weight  Acel Origen  MPG  MPG PREDICT\n",
              "0         8   5031         130   4.672    12     US   13    14.090899\n",
              "1         8   5735         165   4.924    12     US   16    15.937399\n",
              "2         8   5211         150   4.580    11     US   13    14.603516\n",
              "3         8   4982         150   4.576    12     US   15    14.676417\n",
              "4         8   4949         140   4.596    11     US   14    14.154142"
            ]
          },
          "metadata": {
            "tags": []
          },
          "execution_count": 14
        }
      ]
    },
    {
      "cell_type": "code",
      "metadata": {
        "colab": {
          "base_uri": "https://localhost:8080/"
        },
        "id": "4WDuiMkvWQ4s",
        "outputId": "c034f5f3-5bab-4dac-ee71-8c4fdda7930f"
      },
      "source": [
        "#MAE\n",
        "mae = mean_absolute_error(y , mpg_predict)\n",
        "mae"
      ],
      "execution_count": null,
      "outputs": [
        {
          "output_type": "execute_result",
          "data": {
            "text/plain": [
              "1.2400143235756718"
            ]
          },
          "metadata": {
            "tags": []
          },
          "execution_count": 15
        }
      ]
    },
    {
      "cell_type": "code",
      "metadata": {
        "colab": {
          "base_uri": "https://localhost:8080/"
        },
        "id": "M9wY-rREWW-T",
        "outputId": "043bb7da-2140-4574-e5b4-e8e8ec3d9ae0"
      },
      "source": [
        "#MSE\n",
        "mse = mean_squared_error(y , mpg_predict)\n",
        "mse"
      ],
      "execution_count": null,
      "outputs": [
        {
          "output_type": "execute_result",
          "data": {
            "text/plain": [
              "2.605596479128907"
            ]
          },
          "metadata": {
            "tags": []
          },
          "execution_count": 16
        }
      ]
    },
    {
      "cell_type": "code",
      "metadata": {
        "colab": {
          "base_uri": "https://localhost:8080/"
        },
        "id": "nVj74jkIWcKj",
        "outputId": "e73463ed-2402-4579-a4e6-9473a31ec8b9"
      },
      "source": [
        "rmse = mse ** 0.5\n",
        "rmse"
      ],
      "execution_count": null,
      "outputs": [
        {
          "output_type": "execute_result",
          "data": {
            "text/plain": [
              "1.6141860113162012"
            ]
          },
          "metadata": {
            "tags": []
          },
          "execution_count": 17
        }
      ]
    },
    {
      "cell_type": "markdown",
      "metadata": {
        "id": "-tPd3nTKV5t1"
      },
      "source": [
        "## STATISTICAL SUMMARY"
      ]
    },
    {
      "cell_type": "code",
      "metadata": {
        "colab": {
          "base_uri": "https://localhost:8080/"
        },
        "id": "FtNDahNJV5EX",
        "outputId": "2086bd99-5e85-49a7-caec-9d21524ee6d7"
      },
      "source": [
        "import statsmodels.api as sm\n",
        "from scipy import stats\n",
        "\n",
        "X2 = sm.add_constant(x)\n",
        "est = sm.OLS(y, X2)\n",
        "\n",
        "est2 = est.fit()\n",
        "print(est2.summary())"
      ],
      "execution_count": null,
      "outputs": [
        {
          "output_type": "stream",
          "text": [
            "/usr/local/lib/python3.7/dist-packages/statsmodels/tools/_testing.py:19: FutureWarning: pandas.util.testing is deprecated. Use the functions in the public API at pandas.testing instead.\n",
            "  import pandas.util.testing as tm\n"
          ],
          "name": "stderr"
        },
        {
          "output_type": "stream",
          "text": [
            "                            OLS Regression Results                            \n",
            "==============================================================================\n",
            "Dep. Variable:                    MPG   R-squared:                       0.829\n",
            "Model:                            OLS   Adj. R-squared:                  0.827\n",
            "Method:                 Least Squares   F-statistic:                     368.1\n",
            "Date:                Tue, 29 Jun 2021   Prob (F-statistic):          5.27e-143\n",
            "Time:                        23:38:32   Log-Likelihood:                -730.64\n",
            "No. Observations:                 385   AIC:                             1473.\n",
            "Df Residuals:                     379   BIC:                             1497.\n",
            "Df Model:                           5                                         \n",
            "Covariance Type:            nonrobust                                         \n",
            "==============================================================================\n",
            "                 coef    std err          t      P>|t|      [0.025      0.975]\n",
            "------------------------------------------------------------------------------\n",
            "const         -1.5832      1.115     -1.420      0.156      -3.775       0.608\n",
            "Cylinder       0.1683      0.169      0.995      0.320      -0.164       0.501\n",
            "Motor          0.0004      0.000      2.047      0.041    1.64e-05       0.001\n",
            "Horsepower     0.0359      0.007      5.243      0.000       0.022       0.049\n",
            "Weight         1.1758      0.225      5.219      0.000       0.733       1.619\n",
            "Acel           0.1727      0.047      3.696      0.000       0.081       0.265\n",
            "==============================================================================\n",
            "Omnibus:                        5.064   Durbin-Watson:                   1.032\n",
            "Prob(Omnibus):                  0.079   Jarque-Bera (JB):                6.830\n",
            "Skew:                           0.016   Prob(JB):                       0.0329\n",
            "Kurtosis:                       3.652   Cond. No.                     4.92e+04\n",
            "==============================================================================\n",
            "\n",
            "Warnings:\n",
            "[1] Standard Errors assume that the covariance matrix of the errors is correctly specified.\n",
            "[2] The condition number is large, 4.92e+04. This might indicate that there are\n",
            "strong multicollinearity or other numerical problems.\n"
          ],
          "name": "stdout"
        }
      ]
    },
    {
      "cell_type": "markdown",
      "metadata": {
        "id": "gSXzcXIAW3ko"
      },
      "source": [
        "P-VALUE of the variables is \" P > |t| \""
      ]
    }
  ]
}