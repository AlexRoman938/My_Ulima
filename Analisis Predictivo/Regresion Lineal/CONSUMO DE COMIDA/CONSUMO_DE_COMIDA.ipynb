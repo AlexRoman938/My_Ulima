{
  "nbformat": 4,
  "nbformat_minor": 0,
  "metadata": {
    "kernelspec": {
      "display_name": "Python 3",
      "language": "python",
      "name": "python3"
    },
    "language_info": {
      "codemirror_mode": {
        "name": "ipython",
        "version": 3
      },
      "file_extension": ".py",
      "mimetype": "text/x-python",
      "name": "python",
      "nbconvert_exporter": "python",
      "pygments_lexer": "ipython3",
      "version": "3.8.5"
    },
    "colab": {
      "name": "CONSUMO DE COMIDA.ipynb",
      "provenance": []
    }
  },
  "cells": [
    {
      "cell_type": "markdown",
      "metadata": {
        "id": "nrGEVDpjTfi6"
      },
      "source": [
        "# IMPORTAR LIBRERIAS"
      ]
    },
    {
      "cell_type": "code",
      "metadata": {
        "id": "yFb1dCh1Tfi_"
      },
      "source": [
        "import pandas as pd\n",
        "import matplotlib.pyplot as plt\n",
        "import numpy as np"
      ],
      "execution_count": null,
      "outputs": []
    },
    {
      "cell_type": "markdown",
      "metadata": {
        "id": "Li_-c3XzTfjA"
      },
      "source": [
        "# CARGAMOS EL DATA SET CONSUMO DE COMIDA CON PANDAS"
      ]
    },
    {
      "cell_type": "code",
      "metadata": {
        "colab": {
          "base_uri": "https://localhost:8080/",
          "height": 421
        },
        "id": "Ehnl_InVTfjA",
        "outputId": "86dbf627-c71c-4efd-cece-a33f94224d5f"
      },
      "source": [
        "df_consumo = pd.read_excel('2. Data Set Consumo Comida - ORANGE.xlsx')\n",
        "df_consumo"
      ],
      "execution_count": null,
      "outputs": [
        {
          "output_type": "execute_result",
          "data": {
            "text/html": [
              "<div>\n",
              "<style scoped>\n",
              "    .dataframe tbody tr th:only-of-type {\n",
              "        vertical-align: middle;\n",
              "    }\n",
              "\n",
              "    .dataframe tbody tr th {\n",
              "        vertical-align: top;\n",
              "    }\n",
              "\n",
              "    .dataframe thead th {\n",
              "        text-align: right;\n",
              "    }\n",
              "</style>\n",
              "<table border=\"1\" class=\"dataframe\">\n",
              "  <thead>\n",
              "    <tr style=\"text-align: right;\">\n",
              "      <th></th>\n",
              "      <th>Gasto de Comida</th>\n",
              "      <th>Ingresos x 1000</th>\n",
              "      <th>Tamaño de Familia</th>\n",
              "      <th>Hijos</th>\n",
              "    </tr>\n",
              "  </thead>\n",
              "  <tbody>\n",
              "    <tr>\n",
              "      <th>0</th>\n",
              "      <td>3900</td>\n",
              "      <td>37.6</td>\n",
              "      <td>4</td>\n",
              "      <td>0</td>\n",
              "    </tr>\n",
              "    <tr>\n",
              "      <th>1</th>\n",
              "      <td>5300</td>\n",
              "      <td>51.5</td>\n",
              "      <td>5</td>\n",
              "      <td>1</td>\n",
              "    </tr>\n",
              "    <tr>\n",
              "      <th>2</th>\n",
              "      <td>4300</td>\n",
              "      <td>51.6</td>\n",
              "      <td>4</td>\n",
              "      <td>0</td>\n",
              "    </tr>\n",
              "    <tr>\n",
              "      <th>3</th>\n",
              "      <td>4900</td>\n",
              "      <td>46.8</td>\n",
              "      <td>5</td>\n",
              "      <td>0</td>\n",
              "    </tr>\n",
              "    <tr>\n",
              "      <th>4</th>\n",
              "      <td>6400</td>\n",
              "      <td>53.8</td>\n",
              "      <td>6</td>\n",
              "      <td>1</td>\n",
              "    </tr>\n",
              "    <tr>\n",
              "      <th>5</th>\n",
              "      <td>7300</td>\n",
              "      <td>62.6</td>\n",
              "      <td>7</td>\n",
              "      <td>1</td>\n",
              "    </tr>\n",
              "    <tr>\n",
              "      <th>6</th>\n",
              "      <td>4900</td>\n",
              "      <td>54.3</td>\n",
              "      <td>5</td>\n",
              "      <td>0</td>\n",
              "    </tr>\n",
              "    <tr>\n",
              "      <th>7</th>\n",
              "      <td>5300</td>\n",
              "      <td>43.7</td>\n",
              "      <td>4</td>\n",
              "      <td>0</td>\n",
              "    </tr>\n",
              "    <tr>\n",
              "      <th>8</th>\n",
              "      <td>6100</td>\n",
              "      <td>60.8</td>\n",
              "      <td>5</td>\n",
              "      <td>1</td>\n",
              "    </tr>\n",
              "    <tr>\n",
              "      <th>9</th>\n",
              "      <td>6400</td>\n",
              "      <td>51.3</td>\n",
              "      <td>6</td>\n",
              "      <td>1</td>\n",
              "    </tr>\n",
              "    <tr>\n",
              "      <th>10</th>\n",
              "      <td>7400</td>\n",
              "      <td>49.3</td>\n",
              "      <td>6</td>\n",
              "      <td>1</td>\n",
              "    </tr>\n",
              "    <tr>\n",
              "      <th>11</th>\n",
              "      <td>5800</td>\n",
              "      <td>56.3</td>\n",
              "      <td>5</td>\n",
              "      <td>0</td>\n",
              "    </tr>\n",
              "  </tbody>\n",
              "</table>\n",
              "</div>"
            ],
            "text/plain": [
              "    Gasto de Comida  Ingresos x 1000  Tamaño de Familia  Hijos\n",
              "0              3900             37.6                  4      0\n",
              "1              5300             51.5                  5      1\n",
              "2              4300             51.6                  4      0\n",
              "3              4900             46.8                  5      0\n",
              "4              6400             53.8                  6      1\n",
              "5              7300             62.6                  7      1\n",
              "6              4900             54.3                  5      0\n",
              "7              5300             43.7                  4      0\n",
              "8              6100             60.8                  5      1\n",
              "9              6400             51.3                  6      1\n",
              "10             7400             49.3                  6      1\n",
              "11             5800             56.3                  5      0"
            ]
          },
          "metadata": {
            "tags": []
          },
          "execution_count": 2
        }
      ]
    },
    {
      "cell_type": "markdown",
      "metadata": {
        "id": "esRTsOT4TfjE"
      },
      "source": [
        "# EXPLORACIÓN DE LOS DATOS"
      ]
    },
    {
      "cell_type": "markdown",
      "metadata": {
        "id": "bJnbuTAyTfjF"
      },
      "source": [
        "### COLUMNAS\n",
        "\n",
        "Mostramos todas las columnas del dataset"
      ]
    },
    {
      "cell_type": "code",
      "metadata": {
        "colab": {
          "base_uri": "https://localhost:8080/"
        },
        "id": "IAUVQXUtTfjF",
        "outputId": "34c0fa12-d4e4-4366-bff1-78beb9125c44"
      },
      "source": [
        "df_consumo.columns"
      ],
      "execution_count": null,
      "outputs": [
        {
          "output_type": "execute_result",
          "data": {
            "text/plain": [
              "Index(['Gasto de Comida', 'Ingresos x 1000', 'Tamaño de Familia', 'Hijos'], dtype='object')"
            ]
          },
          "metadata": {
            "tags": []
          },
          "execution_count": 3
        }
      ]
    },
    {
      "cell_type": "markdown",
      "metadata": {
        "id": "hRm9mtQKTfjG"
      },
      "source": [
        "### TIPO DE DATOS DE LAS COLUMNAS"
      ]
    },
    {
      "cell_type": "code",
      "metadata": {
        "colab": {
          "base_uri": "https://localhost:8080/"
        },
        "id": "Fro1ZlgCTfjG",
        "outputId": "d51acab1-fcf0-4931-8279-3f0a7c0d6b47"
      },
      "source": [
        "df_consumo.info()"
      ],
      "execution_count": null,
      "outputs": [
        {
          "output_type": "stream",
          "text": [
            "<class 'pandas.core.frame.DataFrame'>\n",
            "RangeIndex: 12 entries, 0 to 11\n",
            "Data columns (total 4 columns):\n",
            " #   Column             Non-Null Count  Dtype  \n",
            "---  ------             --------------  -----  \n",
            " 0   Gasto de Comida    12 non-null     int64  \n",
            " 1   Ingresos x 1000    12 non-null     float64\n",
            " 2   Tamaño de Familia  12 non-null     int64  \n",
            " 3   Hijos              12 non-null     int64  \n",
            "dtypes: float64(1), int64(3)\n",
            "memory usage: 512.0 bytes\n"
          ],
          "name": "stdout"
        }
      ]
    },
    {
      "cell_type": "markdown",
      "metadata": {
        "id": "mtId4pppTfjI"
      },
      "source": [
        "### DATOS *ESTADÍSTICOS*"
      ]
    },
    {
      "cell_type": "code",
      "metadata": {
        "colab": {
          "base_uri": "https://localhost:8080/",
          "height": 297
        },
        "id": "XssjihI9TfjI",
        "outputId": "39eac6e8-6f2b-41c9-e617-a7f47e8cdc20"
      },
      "source": [
        "df_consumo.describe()"
      ],
      "execution_count": null,
      "outputs": [
        {
          "output_type": "execute_result",
          "data": {
            "text/html": [
              "<div>\n",
              "<style scoped>\n",
              "    .dataframe tbody tr th:only-of-type {\n",
              "        vertical-align: middle;\n",
              "    }\n",
              "\n",
              "    .dataframe tbody tr th {\n",
              "        vertical-align: top;\n",
              "    }\n",
              "\n",
              "    .dataframe thead th {\n",
              "        text-align: right;\n",
              "    }\n",
              "</style>\n",
              "<table border=\"1\" class=\"dataframe\">\n",
              "  <thead>\n",
              "    <tr style=\"text-align: right;\">\n",
              "      <th></th>\n",
              "      <th>Gasto de Comida</th>\n",
              "      <th>Ingresos x 1000</th>\n",
              "      <th>Tamaño de Familia</th>\n",
              "      <th>Hijos</th>\n",
              "    </tr>\n",
              "  </thead>\n",
              "  <tbody>\n",
              "    <tr>\n",
              "      <th>count</th>\n",
              "      <td>12.000000</td>\n",
              "      <td>12.000000</td>\n",
              "      <td>12.000000</td>\n",
              "      <td>12.000000</td>\n",
              "    </tr>\n",
              "    <tr>\n",
              "      <th>mean</th>\n",
              "      <td>5666.666667</td>\n",
              "      <td>51.633333</td>\n",
              "      <td>5.166667</td>\n",
              "      <td>0.500000</td>\n",
              "    </tr>\n",
              "    <tr>\n",
              "      <th>std</th>\n",
              "      <td>1103.163495</td>\n",
              "      <td>6.919581</td>\n",
              "      <td>0.937437</td>\n",
              "      <td>0.522233</td>\n",
              "    </tr>\n",
              "    <tr>\n",
              "      <th>min</th>\n",
              "      <td>3900.000000</td>\n",
              "      <td>37.600000</td>\n",
              "      <td>4.000000</td>\n",
              "      <td>0.000000</td>\n",
              "    </tr>\n",
              "    <tr>\n",
              "      <th>25%</th>\n",
              "      <td>4900.000000</td>\n",
              "      <td>48.675000</td>\n",
              "      <td>4.750000</td>\n",
              "      <td>0.000000</td>\n",
              "    </tr>\n",
              "    <tr>\n",
              "      <th>50%</th>\n",
              "      <td>5550.000000</td>\n",
              "      <td>51.550000</td>\n",
              "      <td>5.000000</td>\n",
              "      <td>0.500000</td>\n",
              "    </tr>\n",
              "    <tr>\n",
              "      <th>75%</th>\n",
              "      <td>6400.000000</td>\n",
              "      <td>54.800000</td>\n",
              "      <td>6.000000</td>\n",
              "      <td>1.000000</td>\n",
              "    </tr>\n",
              "    <tr>\n",
              "      <th>max</th>\n",
              "      <td>7400.000000</td>\n",
              "      <td>62.600000</td>\n",
              "      <td>7.000000</td>\n",
              "      <td>1.000000</td>\n",
              "    </tr>\n",
              "  </tbody>\n",
              "</table>\n",
              "</div>"
            ],
            "text/plain": [
              "       Gasto de Comida  Ingresos x 1000  Tamaño de Familia      Hijos\n",
              "count        12.000000        12.000000          12.000000  12.000000\n",
              "mean       5666.666667        51.633333           5.166667   0.500000\n",
              "std        1103.163495         6.919581           0.937437   0.522233\n",
              "min        3900.000000        37.600000           4.000000   0.000000\n",
              "25%        4900.000000        48.675000           4.750000   0.000000\n",
              "50%        5550.000000        51.550000           5.000000   0.500000\n",
              "75%        6400.000000        54.800000           6.000000   1.000000\n",
              "max        7400.000000        62.600000           7.000000   1.000000"
            ]
          },
          "metadata": {
            "tags": []
          },
          "execution_count": 3
        }
      ]
    },
    {
      "cell_type": "markdown",
      "metadata": {
        "id": "K90kEYzmTfjI"
      },
      "source": [
        "### CORRELACION ENTRE LOS DATOS"
      ]
    },
    {
      "cell_type": "markdown",
      "metadata": {
        "id": "CfxcWv0tTfjJ"
      },
      "source": [
        "CORRELACIÓN ENTRE TODOS LOS DATOS DE CADA COLUMNA DEL DATASET , AQUÍ SE MUESTRA UNA MATRIZ DE CORRELACIÓN"
      ]
    },
    {
      "cell_type": "code",
      "metadata": {
        "colab": {
          "base_uri": "https://localhost:8080/",
          "height": 173
        },
        "id": "__2nJEoTTfjJ",
        "outputId": "a1578e0e-6e7f-4a5f-b6c6-f0c2b7702cec"
      },
      "source": [
        "df_consumo_corr = df_consumo.corr()\n",
        "df_consumo_corr"
      ],
      "execution_count": null,
      "outputs": [
        {
          "output_type": "execute_result",
          "data": {
            "text/html": [
              "<div>\n",
              "<style scoped>\n",
              "    .dataframe tbody tr th:only-of-type {\n",
              "        vertical-align: middle;\n",
              "    }\n",
              "\n",
              "    .dataframe tbody tr th {\n",
              "        vertical-align: top;\n",
              "    }\n",
              "\n",
              "    .dataframe thead th {\n",
              "        text-align: right;\n",
              "    }\n",
              "</style>\n",
              "<table border=\"1\" class=\"dataframe\">\n",
              "  <thead>\n",
              "    <tr style=\"text-align: right;\">\n",
              "      <th></th>\n",
              "      <th>Gasto de Comida</th>\n",
              "      <th>Ingresos x 1000</th>\n",
              "      <th>Tamaño de Familia</th>\n",
              "      <th>Hijos</th>\n",
              "    </tr>\n",
              "  </thead>\n",
              "  <tbody>\n",
              "    <tr>\n",
              "      <th>Gasto de Comida</th>\n",
              "      <td>1.000000</td>\n",
              "      <td>0.586694</td>\n",
              "      <td>0.876144</td>\n",
              "      <td>0.773213</td>\n",
              "    </tr>\n",
              "    <tr>\n",
              "      <th>Ingresos x 1000</th>\n",
              "      <td>0.586694</td>\n",
              "      <td>1.000000</td>\n",
              "      <td>0.608707</td>\n",
              "      <td>0.490566</td>\n",
              "    </tr>\n",
              "    <tr>\n",
              "      <th>Tamaño de Familia</th>\n",
              "      <td>0.876144</td>\n",
              "      <td>0.608707</td>\n",
              "      <td>1.000000</td>\n",
              "      <td>0.742781</td>\n",
              "    </tr>\n",
              "    <tr>\n",
              "      <th>Hijos</th>\n",
              "      <td>0.773213</td>\n",
              "      <td>0.490566</td>\n",
              "      <td>0.742781</td>\n",
              "      <td>1.000000</td>\n",
              "    </tr>\n",
              "  </tbody>\n",
              "</table>\n",
              "</div>"
            ],
            "text/plain": [
              "                   Gasto de Comida  ...     Hijos\n",
              "Gasto de Comida           1.000000  ...  0.773213\n",
              "Ingresos x 1000           0.586694  ...  0.490566\n",
              "Tamaño de Familia         0.876144  ...  0.742781\n",
              "Hijos                     0.773213  ...  1.000000\n",
              "\n",
              "[4 rows x 4 columns]"
            ]
          },
          "metadata": {
            "tags": []
          },
          "execution_count": 6
        }
      ]
    },
    {
      "cell_type": "markdown",
      "metadata": {
        "id": "5UEz1_qXTfjJ"
      },
      "source": [
        "## VER DE MANERA ESPECIFICA LA CORRELACION DE LA VARIABLE DEPENDIENTE \"GASTO DE COMIDA\" CON LAS OTRAS VARIABLES INDEPENDIENTES Y EN SI MISMA"
      ]
    },
    {
      "cell_type": "code",
      "metadata": {
        "colab": {
          "base_uri": "https://localhost:8080/"
        },
        "id": "X6nWeICHTfjK",
        "outputId": "fe773153-709c-4410-8e24-9b9cbe1cb3ec"
      },
      "source": [
        "df_consumo_corr['Gasto de Comida'].sort_values(ascending = False) # Lo ordenamos de mayor a menor"
      ],
      "execution_count": null,
      "outputs": [
        {
          "output_type": "execute_result",
          "data": {
            "text/plain": [
              "Gasto de Comida      1.000000\n",
              "Tamaño de Familia    0.876144\n",
              "Hijos                0.773213\n",
              "Ingresos x 1000      0.586694\n",
              "Name: Gasto de Comida, dtype: float64"
            ]
          },
          "metadata": {
            "tags": []
          },
          "execution_count": 7
        }
      ]
    },
    {
      "cell_type": "markdown",
      "metadata": {
        "id": "7e9BqzcDTfjK"
      },
      "source": [
        "### VER DE MANERA GRÁFICA LA CORRELACIÓN ENTRE LA VARIABLE DEPENDIENTE Y LAS VARIABLES INDEPENDIENTES"
      ]
    },
    {
      "cell_type": "markdown",
      "metadata": {
        "id": "q-CD086fTfjK"
      },
      "source": [
        "GASTO DE COMIDA Y TAMAÑO DE FAMILIA , SEGÚN LA MATRIZ LA CORRELACÓN ES DE 0.876144"
      ]
    },
    {
      "cell_type": "code",
      "metadata": {
        "colab": {
          "base_uri": "https://localhost:8080/",
          "height": 279
        },
        "id": "THtiJmUOTfjK",
        "outputId": "508707ff-0559-433d-a2f2-9da815ae7871"
      },
      "source": [
        "df_consumo.plot(kind = 'scatter' , x = 'Gasto de Comida' , y = 'Tamaño de Familia')\n",
        "plt.show()"
      ],
      "execution_count": null,
      "outputs": [
        {
          "output_type": "display_data",
          "data": {
            "image/png": "[encoded data removed]",
            "text/plain": [
              "<Figure size 432x288 with 1 Axes>"
            ]
          },
          "metadata": {
            "tags": [],
            "needs_background": "light"
          }
        }
      ]
    },
    {
      "cell_type": "markdown",
      "metadata": {
        "id": "s2jsqeVeTfjL"
      },
      "source": [
        "GASTO DE COMIDA E INGRESOS X 1000 , SEGÚN LA MATRIZ LA CORRELACÓN ES DE 0.773213"
      ]
    },
    {
      "cell_type": "code",
      "metadata": {
        "colab": {
          "base_uri": "https://localhost:8080/",
          "height": 279
        },
        "id": "u5tk8yqPTfjM",
        "outputId": "8ab9e596-ad8a-4c1c-8fb7-085cff6cc938"
      },
      "source": [
        "df_consumo.plot(kind = 'scatter' , x = 'Gasto de Comida' , y = 'Ingresos x 1000')\n",
        "plt.show()"
      ],
      "execution_count": null,
      "outputs": [
        {
          "output_type": "display_data",
          "data": {
            "image/png": "[encoded data removed]",
            "text/plain": [
              "<Figure size 432x288 with 1 Axes>"
            ]
          },
          "metadata": {
            "tags": [],
            "needs_background": "light"
          }
        }
      ]
    },
    {
      "cell_type": "markdown",
      "metadata": {
        "id": "i5Wcrvh8TfjM"
      },
      "source": [
        "GASTO DE COMIDA E HIJOS , SEGÚN LA MATRIZ LA CORRELACÓN ES DE 0.586694"
      ]
    },
    {
      "cell_type": "code",
      "metadata": {
        "colab": {
          "base_uri": "https://localhost:8080/",
          "height": 279
        },
        "id": "Qw2nmhgqTfjN",
        "outputId": "9032411d-f667-41a9-a81a-b49eee40ab3d"
      },
      "source": [
        "df_consumo.plot(kind = 'scatter' , x = 'Gasto de Comida' , y = 'Hijos')\n",
        "plt.show()"
      ],
      "execution_count": null,
      "outputs": [
        {
          "output_type": "display_data",
          "data": {
            "image/png": "[encoded data removed]",
            "text/plain": [
              "<Figure size 432x288 with 1 Axes>"
            ]
          },
          "metadata": {
            "tags": [],
            "needs_background": "light"
          }
        }
      ]
    },
    {
      "cell_type": "markdown",
      "metadata": {
        "id": "_WVA5C2bTfjN"
      },
      "source": [
        "# APLICANDO REGRESIÓN LINEAL"
      ]
    },
    {
      "cell_type": "code",
      "metadata": {
        "id": "EHpzZqc1TfjN"
      },
      "source": [
        "#Importamos las librerias\n",
        "from sklearn import linear_model\n",
        "from sklearn.metrics import r2_score , mean_squared_error , mean_absolute_error"
      ],
      "execution_count": null,
      "outputs": []
    },
    {
      "cell_type": "markdown",
      "metadata": {
        "id": "pWZq3RCFTfjO"
      },
      "source": [
        "CREAMOS UN MODELO DE REGRESION LINEAL LLAMADO \"regresion_model\""
      ]
    },
    {
      "cell_type": "code",
      "metadata": {
        "id": "4lsVMBuxTfjO"
      },
      "source": [
        "regresion_model = linear_model.LinearRegression()"
      ],
      "execution_count": null,
      "outputs": []
    },
    {
      "cell_type": "code",
      "metadata": {
        "id": "afk3NmxMTfjO"
      },
      "source": [
        "val_inde = ['Ingresos x 1000', 'Tamaño de Familia', 'Hijos'] #Variables independientes\n",
        "val_dep = 'Gasto de Comida' #Variable independiente"
      ],
      "execution_count": null,
      "outputs": []
    },
    {
      "cell_type": "markdown",
      "metadata": {
        "id": "YEpM-238TfjO"
      },
      "source": [
        "SEPARAMOS LAS VARIABLES INDEPENDIENTES EN X y la DEPENDIENTE EN Y"
      ]
    },
    {
      "cell_type": "code",
      "metadata": {
        "id": "xweUVYtnTfjP"
      },
      "source": [
        "x = df_consumo[val_inde] #INDEPENDIENTE\n",
        "y = df_consumo[val_dep] #DEPENDIENTE"
      ],
      "execution_count": null,
      "outputs": []
    },
    {
      "cell_type": "code",
      "metadata": {
        "colab": {
          "base_uri": "https://localhost:8080/",
          "height": 421
        },
        "id": "S1KFizKzTfjP",
        "outputId": "c205a66c-cf3a-4522-d41c-4ab4c85b6b62"
      },
      "source": [
        "x #Una vista de nuestras columnas de variables independientes"
      ],
      "execution_count": null,
      "outputs": [
        {
          "output_type": "execute_result",
          "data": {
            "text/html": [
              "<div>\n",
              "<style scoped>\n",
              "    .dataframe tbody tr th:only-of-type {\n",
              "        vertical-align: middle;\n",
              "    }\n",
              "\n",
              "    .dataframe tbody tr th {\n",
              "        vertical-align: top;\n",
              "    }\n",
              "\n",
              "    .dataframe thead th {\n",
              "        text-align: right;\n",
              "    }\n",
              "</style>\n",
              "<table border=\"1\" class=\"dataframe\">\n",
              "  <thead>\n",
              "    <tr style=\"text-align: right;\">\n",
              "      <th></th>\n",
              "      <th>Ingresos x 1000</th>\n",
              "      <th>Tamaño de Familia</th>\n",
              "      <th>Hijos</th>\n",
              "    </tr>\n",
              "  </thead>\n",
              "  <tbody>\n",
              "    <tr>\n",
              "      <th>0</th>\n",
              "      <td>37.6</td>\n",
              "      <td>4</td>\n",
              "      <td>0</td>\n",
              "    </tr>\n",
              "    <tr>\n",
              "      <th>1</th>\n",
              "      <td>51.5</td>\n",
              "      <td>5</td>\n",
              "      <td>1</td>\n",
              "    </tr>\n",
              "    <tr>\n",
              "      <th>2</th>\n",
              "      <td>51.6</td>\n",
              "      <td>4</td>\n",
              "      <td>0</td>\n",
              "    </tr>\n",
              "    <tr>\n",
              "      <th>3</th>\n",
              "      <td>46.8</td>\n",
              "      <td>5</td>\n",
              "      <td>0</td>\n",
              "    </tr>\n",
              "    <tr>\n",
              "      <th>4</th>\n",
              "      <td>53.8</td>\n",
              "      <td>6</td>\n",
              "      <td>1</td>\n",
              "    </tr>\n",
              "    <tr>\n",
              "      <th>5</th>\n",
              "      <td>62.6</td>\n",
              "      <td>7</td>\n",
              "      <td>1</td>\n",
              "    </tr>\n",
              "    <tr>\n",
              "      <th>6</th>\n",
              "      <td>54.3</td>\n",
              "      <td>5</td>\n",
              "      <td>0</td>\n",
              "    </tr>\n",
              "    <tr>\n",
              "      <th>7</th>\n",
              "      <td>43.7</td>\n",
              "      <td>4</td>\n",
              "      <td>0</td>\n",
              "    </tr>\n",
              "    <tr>\n",
              "      <th>8</th>\n",
              "      <td>60.8</td>\n",
              "      <td>5</td>\n",
              "      <td>1</td>\n",
              "    </tr>\n",
              "    <tr>\n",
              "      <th>9</th>\n",
              "      <td>51.3</td>\n",
              "      <td>6</td>\n",
              "      <td>1</td>\n",
              "    </tr>\n",
              "    <tr>\n",
              "      <th>10</th>\n",
              "      <td>49.3</td>\n",
              "      <td>6</td>\n",
              "      <td>1</td>\n",
              "    </tr>\n",
              "    <tr>\n",
              "      <th>11</th>\n",
              "      <td>56.3</td>\n",
              "      <td>5</td>\n",
              "      <td>0</td>\n",
              "    </tr>\n",
              "  </tbody>\n",
              "</table>\n",
              "</div>"
            ],
            "text/plain": [
              "    Ingresos x 1000  Tamaño de Familia  Hijos\n",
              "0              37.6                  4      0\n",
              "1              51.5                  5      1\n",
              "2              51.6                  4      0\n",
              "3              46.8                  5      0\n",
              "4              53.8                  6      1\n",
              "5              62.6                  7      1\n",
              "6              54.3                  5      0\n",
              "7              43.7                  4      0\n",
              "8              60.8                  5      1\n",
              "9              51.3                  6      1\n",
              "10             49.3                  6      1\n",
              "11             56.3                  5      0"
            ]
          },
          "metadata": {
            "tags": []
          },
          "execution_count": 11
        }
      ]
    },
    {
      "cell_type": "code",
      "metadata": {
        "colab": {
          "base_uri": "https://localhost:8080/"
        },
        "id": "x1ZWQ9kCTfjP",
        "outputId": "ef6972a2-ccd1-4c34-f907-43d5fd8f35cd"
      },
      "source": [
        "y #Una vista de nuestras columna de variable dependiente"
      ],
      "execution_count": null,
      "outputs": [
        {
          "output_type": "execute_result",
          "data": {
            "text/plain": [
              "0     3900\n",
              "1     5300\n",
              "2     4300\n",
              "3     4900\n",
              "4     6400\n",
              "5     7300\n",
              "6     4900\n",
              "7     5300\n",
              "8     6100\n",
              "9     6400\n",
              "10    7400\n",
              "11    5800\n",
              "Name: Gasto de Comida, dtype: int64"
            ]
          },
          "metadata": {
            "tags": []
          },
          "execution_count": 12
        }
      ]
    },
    {
      "cell_type": "markdown",
      "metadata": {
        "id": "E_KLdbWltEPQ"
      },
      "source": [
        "ENTRENAMOS LOS DATOS AL MODELO DE REGRESIÓN"
      ]
    },
    {
      "cell_type": "code",
      "metadata": {
        "colab": {
          "base_uri": "https://localhost:8080/"
        },
        "id": "cwmWtGCJTfjQ",
        "outputId": "32b720f9-5c62-4969-d3e8-c579e1af36ea"
      },
      "source": [
        "regresion_model.fit(x,y) #fit(\"variable independiente\" , \"variable dependiente\")"
      ],
      "execution_count": null,
      "outputs": [
        {
          "output_type": "execute_result",
          "data": {
            "text/plain": [
              "LinearRegression(copy_X=True, fit_intercept=True, n_jobs=None, normalize=False)"
            ]
          },
          "metadata": {
            "tags": []
          },
          "execution_count": 13
        }
      ]
    },
    {
      "cell_type": "markdown",
      "metadata": {
        "id": "NBNx5Ww-tKns"
      },
      "source": [
        "Una vez entrenado el modelo con los datos , podemos sacar algunos datos interesantes de estos:"
      ]
    },
    {
      "cell_type": "code",
      "metadata": {
        "colab": {
          "base_uri": "https://localhost:8080/"
        },
        "id": "oSc-OLhQTfjQ",
        "outputId": "0f6c3b8e-1a78-4641-964e-d8cf7b86c238"
      },
      "source": [
        "regresion_model.coef_  #sacar el coeficiente de regresión lineal de cada variable dependiente\n",
        "#'Ingresos x 1000', 'Tamaño de Familia', 'Hijos'"
      ],
      "execution_count": null,
      "outputs": [
        {
          "output_type": "execute_result",
          "data": {
            "text/plain": [
              "array([ 10.91800495, 748.38371854, 564.52134309])"
            ]
          },
          "metadata": {
            "tags": []
          },
          "execution_count": 14
        }
      ]
    },
    {
      "cell_type": "markdown",
      "metadata": {
        "id": "h7DemQZGtXo8"
      },
      "source": [
        "MOSTRAR LA ECUACIÓN DE LA RECTA"
      ]
    },
    {
      "cell_type": "code",
      "metadata": {
        "id": "nDTtPBkGTfjR"
      },
      "source": [
        "#Creamos variables para poner un coeficiente en cada variable\n",
        "m1 = regresion_model.coef_[0]\n",
        "m2 = regresion_model.coef_[1]\n",
        "m3 = regresion_model.coef_[2]"
      ],
      "execution_count": null,
      "outputs": []
    },
    {
      "cell_type": "code",
      "metadata": {
        "colab": {
          "base_uri": "https://localhost:8080/"
        },
        "id": "aKLBDfOPTfjR",
        "outputId": "2b45150c-c774-43ff-a3a3-e0e9d4f7983e"
      },
      "source": [
        "b = regresion_model.intercept_ #intercepto de la regresión lineal\n",
        "b"
      ],
      "execution_count": null,
      "outputs": [
        {
          "output_type": "execute_result",
          "data": {
            "text/plain": [
              "954.0237936782441"
            ]
          },
          "metadata": {
            "tags": []
          },
          "execution_count": 16
        }
      ]
    },
    {
      "cell_type": "code",
      "metadata": {
        "colab": {
          "base_uri": "https://localhost:8080/",
          "height": 52
        },
        "id": "hzBJvQeSTfjR",
        "outputId": "d631da53-0f1a-4fd2-b0c4-a7e4760a963b"
      },
      "source": [
        "word = f'y = {b}  + {m1} * x1 + {m2} * x2 + {m3} * x3'\n",
        "print('La ecuación de la recta es:')\n",
        "word"
      ],
      "execution_count": null,
      "outputs": [
        {
          "output_type": "stream",
          "text": [
            "La ecuación de la recta es:\n"
          ],
          "name": "stdout"
        },
        {
          "output_type": "execute_result",
          "data": {
            "application/vnd.google.colaboratory.intrinsic+json": {
              "type": "string"
            },
            "text/plain": [
              "'y = 954.0237936782441  + 10.918004950925999 * x1 + 748.3837185435822 * x2 + 564.5213430942047 * x3'"
            ]
          },
          "metadata": {
            "tags": []
          },
          "execution_count": 17
        }
      ]
    },
    {
      "cell_type": "markdown",
      "metadata": {
        "id": "xPymz3BstkcV"
      },
      "source": [
        "Ahora haremos predicciones con la regresión lineal"
      ]
    },
    {
      "cell_type": "markdown",
      "metadata": {
        "id": "7NkPi4jHTfjS"
      },
      "source": [
        "### Prediciendo con la regresión lineal..."
      ]
    },
    {
      "cell_type": "code",
      "metadata": {
        "colab": {
          "base_uri": "https://localhost:8080/"
        },
        "id": "JhWOkELITfjU",
        "outputId": "2363fd24-a5cf-43cf-a70d-10e9e8c10b50"
      },
      "source": [
        "gasto_comida_estimado = regresion_model.predict(x) #Predeciremos con las variables que hemos puesto en x\n",
        "gasto_comida_estimado #Nos da valores predecidos en un array"
      ],
      "execution_count": null,
      "outputs": [
        {
          "output_type": "execute_result",
          "data": {
            "text/plain": [
              "array([4358.07565401, 5822.74098446, 4510.92772332, 5206.9050181 ,\n",
              "       6596.23611439, 7440.69827651, 5288.79005523, 4424.67548421,\n",
              "       5924.27843051, 6568.94110202, 6547.10509211, 5310.62606513])"
            ]
          },
          "metadata": {
            "tags": []
          },
          "execution_count": 18
        }
      ]
    },
    {
      "cell_type": "markdown",
      "metadata": {
        "id": "8iUC5pgtTfjU"
      },
      "source": [
        "### Creamos una nueva columna en el dataframe con los valores predecidos , llamado gasto_comida_estimado"
      ]
    },
    {
      "cell_type": "code",
      "metadata": {
        "colab": {
          "base_uri": "https://localhost:8080/",
          "height": 421
        },
        "id": "5TNU7TqBTfjV",
        "outputId": "d8a3c2e5-b8b8-40d1-c013-6f1a392db7b0"
      },
      "source": [
        "#Esos valores predecidos lo insertamos a nuestro dataset df_consumo como una columna nueva\n",
        "df_consumo['gasto_comida_estimado'] = gasto_comida_estimado\n",
        "df_consumo"
      ],
      "execution_count": null,
      "outputs": [
        {
          "output_type": "execute_result",
          "data": {
            "text/html": [
              "<div>\n",
              "<style scoped>\n",
              "    .dataframe tbody tr th:only-of-type {\n",
              "        vertical-align: middle;\n",
              "    }\n",
              "\n",
              "    .dataframe tbody tr th {\n",
              "        vertical-align: top;\n",
              "    }\n",
              "\n",
              "    .dataframe thead th {\n",
              "        text-align: right;\n",
              "    }\n",
              "</style>\n",
              "<table border=\"1\" class=\"dataframe\">\n",
              "  <thead>\n",
              "    <tr style=\"text-align: right;\">\n",
              "      <th></th>\n",
              "      <th>Gasto de Comida</th>\n",
              "      <th>Ingresos x 1000</th>\n",
              "      <th>Tamaño de Familia</th>\n",
              "      <th>Hijos</th>\n",
              "      <th>gasto_comida_estimado</th>\n",
              "    </tr>\n",
              "  </thead>\n",
              "  <tbody>\n",
              "    <tr>\n",
              "      <th>0</th>\n",
              "      <td>3900</td>\n",
              "      <td>37.6</td>\n",
              "      <td>4</td>\n",
              "      <td>0</td>\n",
              "      <td>4358.075654</td>\n",
              "    </tr>\n",
              "    <tr>\n",
              "      <th>1</th>\n",
              "      <td>5300</td>\n",
              "      <td>51.5</td>\n",
              "      <td>5</td>\n",
              "      <td>1</td>\n",
              "      <td>5822.740984</td>\n",
              "    </tr>\n",
              "    <tr>\n",
              "      <th>2</th>\n",
              "      <td>4300</td>\n",
              "      <td>51.6</td>\n",
              "      <td>4</td>\n",
              "      <td>0</td>\n",
              "      <td>4510.927723</td>\n",
              "    </tr>\n",
              "    <tr>\n",
              "      <th>3</th>\n",
              "      <td>4900</td>\n",
              "      <td>46.8</td>\n",
              "      <td>5</td>\n",
              "      <td>0</td>\n",
              "      <td>5206.905018</td>\n",
              "    </tr>\n",
              "    <tr>\n",
              "      <th>4</th>\n",
              "      <td>6400</td>\n",
              "      <td>53.8</td>\n",
              "      <td>6</td>\n",
              "      <td>1</td>\n",
              "      <td>6596.236114</td>\n",
              "    </tr>\n",
              "    <tr>\n",
              "      <th>5</th>\n",
              "      <td>7300</td>\n",
              "      <td>62.6</td>\n",
              "      <td>7</td>\n",
              "      <td>1</td>\n",
              "      <td>7440.698277</td>\n",
              "    </tr>\n",
              "    <tr>\n",
              "      <th>6</th>\n",
              "      <td>4900</td>\n",
              "      <td>54.3</td>\n",
              "      <td>5</td>\n",
              "      <td>0</td>\n",
              "      <td>5288.790055</td>\n",
              "    </tr>\n",
              "    <tr>\n",
              "      <th>7</th>\n",
              "      <td>5300</td>\n",
              "      <td>43.7</td>\n",
              "      <td>4</td>\n",
              "      <td>0</td>\n",
              "      <td>4424.675484</td>\n",
              "    </tr>\n",
              "    <tr>\n",
              "      <th>8</th>\n",
              "      <td>6100</td>\n",
              "      <td>60.8</td>\n",
              "      <td>5</td>\n",
              "      <td>1</td>\n",
              "      <td>5924.278431</td>\n",
              "    </tr>\n",
              "    <tr>\n",
              "      <th>9</th>\n",
              "      <td>6400</td>\n",
              "      <td>51.3</td>\n",
              "      <td>6</td>\n",
              "      <td>1</td>\n",
              "      <td>6568.941102</td>\n",
              "    </tr>\n",
              "    <tr>\n",
              "      <th>10</th>\n",
              "      <td>7400</td>\n",
              "      <td>49.3</td>\n",
              "      <td>6</td>\n",
              "      <td>1</td>\n",
              "      <td>6547.105092</td>\n",
              "    </tr>\n",
              "    <tr>\n",
              "      <th>11</th>\n",
              "      <td>5800</td>\n",
              "      <td>56.3</td>\n",
              "      <td>5</td>\n",
              "      <td>0</td>\n",
              "      <td>5310.626065</td>\n",
              "    </tr>\n",
              "  </tbody>\n",
              "</table>\n",
              "</div>"
            ],
            "text/plain": [
              "    Gasto de Comida  Ingresos x 1000  ...  Hijos  gasto_comida_estimado\n",
              "0              3900             37.6  ...      0            4358.075654\n",
              "1              5300             51.5  ...      1            5822.740984\n",
              "2              4300             51.6  ...      0            4510.927723\n",
              "3              4900             46.8  ...      0            5206.905018\n",
              "4              6400             53.8  ...      1            6596.236114\n",
              "5              7300             62.6  ...      1            7440.698277\n",
              "6              4900             54.3  ...      0            5288.790055\n",
              "7              5300             43.7  ...      0            4424.675484\n",
              "8              6100             60.8  ...      1            5924.278431\n",
              "9              6400             51.3  ...      1            6568.941102\n",
              "10             7400             49.3  ...      1            6547.105092\n",
              "11             5800             56.3  ...      0            5310.626065\n",
              "\n",
              "[12 rows x 5 columns]"
            ]
          },
          "metadata": {
            "tags": []
          },
          "execution_count": 19
        }
      ]
    },
    {
      "cell_type": "markdown",
      "metadata": {
        "id": "_sBY-1Nnt5aM"
      },
      "source": [
        "Con los valores predecidos podemos sacar los errores y su R-square"
      ]
    },
    {
      "cell_type": "markdown",
      "metadata": {
        "id": "CTwzz_v5TfjV"
      },
      "source": [
        "### R SQUARE"
      ]
    },
    {
      "cell_type": "code",
      "metadata": {
        "colab": {
          "base_uri": "https://localhost:8080/"
        },
        "id": "svW78_CgTfjV",
        "outputId": "d998d07d-29a0-43a3-9004-61c938e9b77a"
      },
      "source": [
        "R_square = r2_score(y , gasto_comida_estimado) #Para medir el nivel de eficiencia del modelo \n",
        "#r2_score(\"valor real\" , \"valor predecido\")\n",
        "R_square"
      ],
      "execution_count": null,
      "outputs": [
        {
          "output_type": "execute_result",
          "data": {
            "text/plain": [
              "0.8040017151303603"
            ]
          },
          "metadata": {
            "tags": []
          },
          "execution_count": 20
        }
      ]
    },
    {
      "cell_type": "markdown",
      "metadata": {
        "id": "m2ilU6ChTfjW"
      },
      "source": [
        "### ERRORES TÍPICOS"
      ]
    },
    {
      "cell_type": "code",
      "metadata": {
        "colab": {
          "base_uri": "https://localhost:8080/"
        },
        "id": "PDW0y4OuTfjW",
        "outputId": "859b6c3d-0f5e-4db2-f0f1-c4a4dfeb51b1"
      },
      "source": [
        "#MAE\n",
        "mae = mean_absolute_error(y , gasto_comida_estimado)\n",
        "mae"
      ],
      "execution_count": null,
      "outputs": [
        {
          "output_type": "execute_result",
          "data": {
            "text/plain": [
              "398.8858213395699"
            ]
          },
          "metadata": {
            "tags": []
          },
          "execution_count": 21
        }
      ]
    },
    {
      "cell_type": "code",
      "metadata": {
        "colab": {
          "base_uri": "https://localhost:8080/"
        },
        "id": "D-tL_2Z7TfjW",
        "outputId": "0a3aa4f1-8599-4b6f-b7d1-1dd5a8925d6a"
      },
      "source": [
        "#MSE\n",
        "mse = mean_squared_error(y , gasto_comida_estimado)\n",
        "mse"
      ],
      "execution_count": null,
      "outputs": [
        {
          "output_type": "execute_result",
          "data": {
            "text/plain": [
              "218646.97556568694"
            ]
          },
          "metadata": {
            "tags": []
          },
          "execution_count": 22
        }
      ]
    },
    {
      "cell_type": "code",
      "metadata": {
        "colab": {
          "base_uri": "https://localhost:8080/"
        },
        "id": "cWRaCyiLTfjW",
        "outputId": "fdcb9d16-3b45-4b37-db3e-a5bc653657e1"
      },
      "source": [
        "#RMSE\n",
        "rmse = mse ** 0.5\n",
        "rmse"
      ],
      "execution_count": null,
      "outputs": [
        {
          "output_type": "execute_result",
          "data": {
            "text/plain": [
              "467.5970226227782"
            ]
          },
          "metadata": {
            "tags": []
          },
          "execution_count": 23
        }
      ]
    },
    {
      "cell_type": "markdown",
      "metadata": {
        "id": "8RXffl1zuBU7"
      },
      "source": [
        "Por último , no hay que olvidarnos del P VALUE"
      ]
    },
    {
      "cell_type": "markdown",
      "metadata": {
        "id": "_GO9odUrTfjX"
      },
      "source": [
        "# P VALUE"
      ]
    },
    {
      "cell_type": "code",
      "metadata": {
        "colab": {
          "base_uri": "https://localhost:8080/"
        },
        "id": "j6OZ8SoUTfjY",
        "outputId": "4719850b-e593-4ea3-845a-2fdd0f40f267"
      },
      "source": [
        "import statsmodels.api as sm\n",
        "from scipy import stats\n",
        "X2 = sm.add_constant(x)\n",
        "est = sm.OLS(y, X2)\n",
        "print(est.fit().f_pvalue) #P VALUE MODEL"
      ],
      "execution_count": null,
      "outputs": [
        {
          "output_type": "stream",
          "text": [
            "/usr/local/lib/python3.7/dist-packages/statsmodels/tools/_testing.py:19: FutureWarning: pandas.util.testing is deprecated. Use the functions in the public API at pandas.testing instead.\n",
            "  import pandas.util.testing as tm\n"
          ],
          "name": "stderr"
        },
        {
          "output_type": "stream",
          "text": [
            "0.0033342528546476983\n"
          ],
          "name": "stdout"
        }
      ]
    },
    {
      "cell_type": "code",
      "metadata": {
        "colab": {
          "base_uri": "https://localhost:8080/"
        },
        "id": "_ECdmYncIctx",
        "outputId": "0eb36a73-8889-4466-a7ed-971e62ea8701"
      },
      "source": [
        "est2 = est.fit()\n",
        "print(est2.summary())"
      ],
      "execution_count": null,
      "outputs": [
        {
          "output_type": "stream",
          "text": [
            "                            OLS Regression Results                            \n",
            "==============================================================================\n",
            "Dep. Variable:        Gasto de Comida   R-squared:                       0.804\n",
            "Model:                            OLS   Adj. R-squared:                  0.731\n",
            "Method:                 Least Squares   F-statistic:                     10.94\n",
            "Date:                Tue, 08 Jun 2021   Prob (F-statistic):            0.00333\n",
            "Time:                        17:44:49   Log-Likelihood:                -90.799\n",
            "No. Observations:                  12   AIC:                             189.6\n",
            "Df Residuals:                       8   BIC:                             191.5\n",
            "Df Model:                           3                                         \n",
            "Covariance Type:            nonrobust                                         \n",
            "=====================================================================================\n",
            "                        coef    std err          t      P>|t|      [0.025      0.975]\n",
            "-------------------------------------------------------------------------------------\n",
            "const               954.0238   1580.839      0.603      0.563   -2691.397    4599.445\n",
            "Ingresos x 1000      10.9180     31.535      0.346      0.738     -61.802      83.638\n",
            "Tamaño de Familia   748.3837    302.953      2.470      0.039      49.772    1446.996\n",
            "Hijos               564.5213    495.135      1.140      0.287    -577.262    1706.304\n",
            "==============================================================================\n",
            "Omnibus:                        2.495   Durbin-Watson:                   1.361\n",
            "Prob(Omnibus):                  0.287   Jarque-Bera (JB):                1.733\n",
            "Skew:                           0.866   Prob(JB):                        0.420\n",
            "Kurtosis:                       2.318   Cond. No.                         511.\n",
            "==============================================================================\n",
            "\n",
            "Warnings:\n",
            "[1] Standard Errors assume that the covariance matrix of the errors is correctly specified.\n"
          ],
          "name": "stdout"
        },
        {
          "output_type": "stream",
          "text": [
            "/usr/local/lib/python3.7/dist-packages/scipy/stats/stats.py:1535: UserWarning: kurtosistest only valid for n>=20 ... continuing anyway, n=12\n",
            "  \"anyway, n=%i\" % int(n))\n"
          ],
          "name": "stderr"
        }
      ]
    },
    {
      "cell_type": "markdown",
      "metadata": {
        "id": "Ed6bpXWlwEih"
      },
      "source": [
        "P > | t | : P VALUE\n",
        "\n",
        "De aquí podemos ver :\n",
        "\n",
        "Ingresos x 1000 tiene un p value 0.738 , no tiene significancia en el modelo\n",
        "\n",
        "Tamaño de Familia un p value 0.039 ,  tiene significancia en el modelo\n",
        "\n",
        "Hijos un p value 0.287 , no tiene significancia en el modelo"
      ]
    }
  ]
}