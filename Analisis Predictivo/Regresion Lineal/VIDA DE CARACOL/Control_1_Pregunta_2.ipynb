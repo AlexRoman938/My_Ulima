{
  "nbformat": 4,
  "nbformat_minor": 0,
  "metadata": {
    "colab": {
      "name": "Control 1 Pregunta 2.ipynb",
      "provenance": []
    },
    "kernelspec": {
      "name": "python3",
      "display_name": "Python 3"
    },
    "language_info": {
      "name": "python"
    }
  },
  "cells": [
    {
      "cell_type": "code",
      "metadata": {
        "id": "1y06niQ5KLr3"
      },
      "source": [
        "#Name : Alexander Daniel Román Gabriel"
      ],
      "execution_count": null,
      "outputs": []
    },
    {
      "cell_type": "code",
      "metadata": {
        "id": "HSrlN-jAKEGH"
      },
      "source": [
        "#Libraries\n",
        "import pandas as pd\n",
        "import matplotlib.pyplot as plt\n",
        "from sklearn.linear_model import LinearRegression\n",
        "from sklearn.metrics import r2_score , mean_squared_error , mean_absolute_error\n",
        "import seaborn as sns\n",
        "import numpy as np"
      ],
      "execution_count": null,
      "outputs": []
    },
    {
      "cell_type": "markdown",
      "metadata": {
        "id": "3qAdE0F-KPf6"
      },
      "source": [
        "## READ THE DATA"
      ]
    },
    {
      "cell_type": "code",
      "metadata": {
        "colab": {
          "base_uri": "https://localhost:8080/",
          "height": 204
        },
        "id": "mpAUDPnsKOeo",
        "outputId": "aaef2170-458e-42d8-d785-a5a36a870bfd"
      },
      "source": [
        "df = pd.read_excel('DataSet_Caracol_m.xlsx' , sheet_name= \"DataSet\") \n",
        "df.head()"
      ],
      "execution_count": null,
      "outputs": [
        {
          "output_type": "execute_result",
          "data": {
            "text/html": [
              "<div>\n",
              "<style scoped>\n",
              "    .dataframe tbody tr th:only-of-type {\n",
              "        vertical-align: middle;\n",
              "    }\n",
              "\n",
              "    .dataframe tbody tr th {\n",
              "        vertical-align: top;\n",
              "    }\n",
              "\n",
              "    .dataframe thead th {\n",
              "        text-align: right;\n",
              "    }\n",
              "</style>\n",
              "<table border=\"1\" class=\"dataframe\">\n",
              "  <thead>\n",
              "    <tr style=\"text-align: right;\">\n",
              "      <th></th>\n",
              "      <th>Sexo</th>\n",
              "      <th>Longitud</th>\n",
              "      <th>Diámetro</th>\n",
              "      <th>Altura</th>\n",
              "      <th>Peso total</th>\n",
              "      <th>Peso sin concha</th>\n",
              "      <th>Peso de las vísceras</th>\n",
              "      <th>Peso del caparazón</th>\n",
              "      <th>Anillos</th>\n",
              "      <th>Edad</th>\n",
              "    </tr>\n",
              "  </thead>\n",
              "  <tbody>\n",
              "    <tr>\n",
              "      <th>0</th>\n",
              "      <td>H</td>\n",
              "      <td>0.705</td>\n",
              "      <td>0.555</td>\n",
              "      <td>0.195</td>\n",
              "      <td>1.7525</td>\n",
              "      <td>0.7105</td>\n",
              "      <td>0.4215</td>\n",
              "      <td>0.516</td>\n",
              "      <td>12</td>\n",
              "      <td>13.5</td>\n",
              "    </tr>\n",
              "    <tr>\n",
              "      <th>1</th>\n",
              "      <td>E</td>\n",
              "      <td>0.300</td>\n",
              "      <td>0.220</td>\n",
              "      <td>0.065</td>\n",
              "      <td>0.1195</td>\n",
              "      <td>0.0520</td>\n",
              "      <td>0.0155</td>\n",
              "      <td>0.035</td>\n",
              "      <td>5</td>\n",
              "      <td>6.5</td>\n",
              "    </tr>\n",
              "    <tr>\n",
              "      <th>2</th>\n",
              "      <td>E</td>\n",
              "      <td>0.545</td>\n",
              "      <td>0.400</td>\n",
              "      <td>0.130</td>\n",
              "      <td>0.6860</td>\n",
              "      <td>0.3285</td>\n",
              "      <td>0.1455</td>\n",
              "      <td>0.180</td>\n",
              "      <td>9</td>\n",
              "      <td>10.5</td>\n",
              "    </tr>\n",
              "    <tr>\n",
              "      <th>3</th>\n",
              "      <td>E</td>\n",
              "      <td>0.485</td>\n",
              "      <td>0.365</td>\n",
              "      <td>0.090</td>\n",
              "      <td>0.6510</td>\n",
              "      <td>0.3165</td>\n",
              "      <td>0.1320</td>\n",
              "      <td>0.180</td>\n",
              "      <td>8</td>\n",
              "      <td>9.5</td>\n",
              "    </tr>\n",
              "    <tr>\n",
              "      <th>4</th>\n",
              "      <td>E</td>\n",
              "      <td>0.475</td>\n",
              "      <td>0.360</td>\n",
              "      <td>0.110</td>\n",
              "      <td>0.4555</td>\n",
              "      <td>0.1770</td>\n",
              "      <td>0.0965</td>\n",
              "      <td>0.145</td>\n",
              "      <td>9</td>\n",
              "      <td>10.5</td>\n",
              "    </tr>\n",
              "  </tbody>\n",
              "</table>\n",
              "</div>"
            ],
            "text/plain": [
              "  Sexo  Longitud  Diámetro  ...  Peso del caparazón  Anillos  Edad\n",
              "0    H     0.705     0.555  ...               0.516       12  13.5\n",
              "1    E     0.300     0.220  ...               0.035        5   6.5\n",
              "2    E     0.545     0.400  ...               0.180        9  10.5\n",
              "3    E     0.485     0.365  ...               0.180        8   9.5\n",
              "4    E     0.475     0.360  ...               0.145        9  10.5\n",
              "\n",
              "[5 rows x 10 columns]"
            ]
          },
          "metadata": {
            "tags": []
          },
          "execution_count": 3
        }
      ]
    },
    {
      "cell_type": "code",
      "metadata": {
        "colab": {
          "base_uri": "https://localhost:8080/"
        },
        "id": "lcPOqQCEKwfu",
        "outputId": "4e9c1c41-4eb4-4bd8-f707-27ff68a605cb"
      },
      "source": [
        "df.columns"
      ],
      "execution_count": null,
      "outputs": [
        {
          "output_type": "execute_result",
          "data": {
            "text/plain": [
              "Index(['Sexo', 'Longitud', 'Diámetro', 'Altura', 'Peso total',\n",
              "       'Peso sin concha', 'Peso de las vísceras', 'Peso del caparazón',\n",
              "       'Anillos', 'Edad'],\n",
              "      dtype='object')"
            ]
          },
          "metadata": {
            "tags": []
          },
          "execution_count": 4
        }
      ]
    },
    {
      "cell_type": "markdown",
      "metadata": {
        "id": "db34Q-MKLC2G"
      },
      "source": [
        "## DATA ANALYSIS"
      ]
    },
    {
      "cell_type": "code",
      "metadata": {
        "colab": {
          "base_uri": "https://localhost:8080/"
        },
        "id": "5K0fdpkTLHHT",
        "outputId": "d1284d72-6873-4c33-b3d3-e43fd0c372eb"
      },
      "source": [
        "df.info()"
      ],
      "execution_count": null,
      "outputs": [
        {
          "output_type": "stream",
          "text": [
            "<class 'pandas.core.frame.DataFrame'>\n",
            "RangeIndex: 3177 entries, 0 to 3176\n",
            "Data columns (total 10 columns):\n",
            " #   Column                Non-Null Count  Dtype  \n",
            "---  ------                --------------  -----  \n",
            " 0   Sexo                  3177 non-null   object \n",
            " 1   Longitud              3177 non-null   float64\n",
            " 2   Diámetro              3177 non-null   float64\n",
            " 3   Altura                3177 non-null   float64\n",
            " 4   Peso total            3177 non-null   float64\n",
            " 5   Peso sin concha       3177 non-null   float64\n",
            " 6   Peso de las vísceras  3177 non-null   float64\n",
            " 7   Peso del caparazón    3177 non-null   float64\n",
            " 8   Anillos               3177 non-null   int64  \n",
            " 9   Edad                  3177 non-null   float64\n",
            "dtypes: float64(8), int64(1), object(1)\n",
            "memory usage: 248.3+ KB\n"
          ],
          "name": "stdout"
        }
      ]
    },
    {
      "cell_type": "code",
      "metadata": {
        "colab": {
          "base_uri": "https://localhost:8080/",
          "height": 314
        },
        "id": "pWYALwhNLOCt",
        "outputId": "65c1f4b5-6017-4c40-a54c-adc3b25921a5"
      },
      "source": [
        "df.describe()"
      ],
      "execution_count": null,
      "outputs": [
        {
          "output_type": "execute_result",
          "data": {
            "text/html": [
              "<div>\n",
              "<style scoped>\n",
              "    .dataframe tbody tr th:only-of-type {\n",
              "        vertical-align: middle;\n",
              "    }\n",
              "\n",
              "    .dataframe tbody tr th {\n",
              "        vertical-align: top;\n",
              "    }\n",
              "\n",
              "    .dataframe thead th {\n",
              "        text-align: right;\n",
              "    }\n",
              "</style>\n",
              "<table border=\"1\" class=\"dataframe\">\n",
              "  <thead>\n",
              "    <tr style=\"text-align: right;\">\n",
              "      <th></th>\n",
              "      <th>Longitud</th>\n",
              "      <th>Diámetro</th>\n",
              "      <th>Altura</th>\n",
              "      <th>Peso total</th>\n",
              "      <th>Peso sin concha</th>\n",
              "      <th>Peso de las vísceras</th>\n",
              "      <th>Peso del caparazón</th>\n",
              "      <th>Anillos</th>\n",
              "      <th>Edad</th>\n",
              "    </tr>\n",
              "  </thead>\n",
              "  <tbody>\n",
              "    <tr>\n",
              "      <th>count</th>\n",
              "      <td>3177.000000</td>\n",
              "      <td>3177.000000</td>\n",
              "      <td>3177.000000</td>\n",
              "      <td>3177.000000</td>\n",
              "      <td>3177.000000</td>\n",
              "      <td>3177.000000</td>\n",
              "      <td>3177.000000</td>\n",
              "      <td>3177.000000</td>\n",
              "      <td>3177.000000</td>\n",
              "    </tr>\n",
              "    <tr>\n",
              "      <th>mean</th>\n",
              "      <td>0.524092</td>\n",
              "      <td>0.407814</td>\n",
              "      <td>0.139583</td>\n",
              "      <td>0.828054</td>\n",
              "      <td>0.359249</td>\n",
              "      <td>0.180199</td>\n",
              "      <td>0.238699</td>\n",
              "      <td>9.936733</td>\n",
              "      <td>11.436733</td>\n",
              "    </tr>\n",
              "    <tr>\n",
              "      <th>std</th>\n",
              "      <td>0.119888</td>\n",
              "      <td>0.099262</td>\n",
              "      <td>0.042230</td>\n",
              "      <td>0.491111</td>\n",
              "      <td>0.221894</td>\n",
              "      <td>0.109916</td>\n",
              "      <td>0.139551</td>\n",
              "      <td>3.210905</td>\n",
              "      <td>3.210905</td>\n",
              "    </tr>\n",
              "    <tr>\n",
              "      <th>min</th>\n",
              "      <td>0.075000</td>\n",
              "      <td>0.055000</td>\n",
              "      <td>0.000000</td>\n",
              "      <td>0.002000</td>\n",
              "      <td>0.001000</td>\n",
              "      <td>0.000500</td>\n",
              "      <td>0.001500</td>\n",
              "      <td>1.000000</td>\n",
              "      <td>2.500000</td>\n",
              "    </tr>\n",
              "    <tr>\n",
              "      <th>25%</th>\n",
              "      <td>0.450000</td>\n",
              "      <td>0.350000</td>\n",
              "      <td>0.115000</td>\n",
              "      <td>0.444000</td>\n",
              "      <td>0.186500</td>\n",
              "      <td>0.092000</td>\n",
              "      <td>0.130000</td>\n",
              "      <td>8.000000</td>\n",
              "      <td>9.500000</td>\n",
              "    </tr>\n",
              "    <tr>\n",
              "      <th>50%</th>\n",
              "      <td>0.545000</td>\n",
              "      <td>0.425000</td>\n",
              "      <td>0.140000</td>\n",
              "      <td>0.796000</td>\n",
              "      <td>0.335000</td>\n",
              "      <td>0.170000</td>\n",
              "      <td>0.230000</td>\n",
              "      <td>9.000000</td>\n",
              "      <td>10.500000</td>\n",
              "    </tr>\n",
              "    <tr>\n",
              "      <th>75%</th>\n",
              "      <td>0.615000</td>\n",
              "      <td>0.480000</td>\n",
              "      <td>0.165000</td>\n",
              "      <td>1.150000</td>\n",
              "      <td>0.499500</td>\n",
              "      <td>0.250000</td>\n",
              "      <td>0.330000</td>\n",
              "      <td>11.000000</td>\n",
              "      <td>12.500000</td>\n",
              "    </tr>\n",
              "    <tr>\n",
              "      <th>max</th>\n",
              "      <td>0.815000</td>\n",
              "      <td>0.650000</td>\n",
              "      <td>1.130000</td>\n",
              "      <td>2.825500</td>\n",
              "      <td>1.348500</td>\n",
              "      <td>0.760000</td>\n",
              "      <td>1.005000</td>\n",
              "      <td>29.000000</td>\n",
              "      <td>30.500000</td>\n",
              "    </tr>\n",
              "  </tbody>\n",
              "</table>\n",
              "</div>"
            ],
            "text/plain": [
              "          Longitud     Diámetro  ...      Anillos         Edad\n",
              "count  3177.000000  3177.000000  ...  3177.000000  3177.000000\n",
              "mean      0.524092     0.407814  ...     9.936733    11.436733\n",
              "std       0.119888     0.099262  ...     3.210905     3.210905\n",
              "min       0.075000     0.055000  ...     1.000000     2.500000\n",
              "25%       0.450000     0.350000  ...     8.000000     9.500000\n",
              "50%       0.545000     0.425000  ...     9.000000    10.500000\n",
              "75%       0.615000     0.480000  ...    11.000000    12.500000\n",
              "max       0.815000     0.650000  ...    29.000000    30.500000\n",
              "\n",
              "[8 rows x 9 columns]"
            ]
          },
          "metadata": {
            "tags": []
          },
          "execution_count": 6
        }
      ]
    },
    {
      "cell_type": "code",
      "metadata": {
        "colab": {
          "base_uri": "https://localhost:8080/",
          "height": 377
        },
        "id": "j5Uq5VOELa4S",
        "outputId": "c7c56323-0a2d-4969-d4cd-0cfb37f436a6"
      },
      "source": [
        "#Correlation\n",
        "sns.heatmap(df.corr() , annot = True , fmt = '.3g' , vmin = -1 , vmax = 1 , cmap = 'coolwarm' ,\n",
        "            linewidths=3, linecolor='black')"
      ],
      "execution_count": null,
      "outputs": [
        {
          "output_type": "execute_result",
          "data": {
            "text/plain": [
              "<matplotlib.axes._subplots.AxesSubplot at 0x7f39b329b7d0>"
            ]
          },
          "metadata": {
            "tags": []
          },
          "execution_count": 7
        },
        {
          "output_type": "display_data",
          "data": {
            "image/png": "[encoded data removed]",
            "text/plain": [
              "<Figure size 432x288 with 2 Axes>"
            ]
          },
          "metadata": {
            "tags": [],
            "needs_background": "light"
          }
        }
      ]
    },
    {
      "cell_type": "code",
      "metadata": {
        "colab": {
          "base_uri": "https://localhost:8080/",
          "height": 373
        },
        "id": "49dTHKqzLpWu",
        "outputId": "31f47185-b246-452b-f401-f7d32dba9e5c"
      },
      "source": [
        "#Covariance\n",
        "sns.heatmap(df.cov() , annot = True , fmt = '.2g' , cmap = 'coolwarm')"
      ],
      "execution_count": null,
      "outputs": [
        {
          "output_type": "execute_result",
          "data": {
            "text/plain": [
              "<matplotlib.axes._subplots.AxesSubplot at 0x7f39aa91add0>"
            ]
          },
          "metadata": {
            "tags": []
          },
          "execution_count": 8
        },
        {
          "output_type": "display_data",
          "data": {
            "image/png": "[encoded data removed]",
            "text/plain": [
              "<Figure size 432x288 with 2 Axes>"
            ]
          },
          "metadata": {
            "tags": [],
            "needs_background": "light"
          }
        }
      ]
    },
    {
      "cell_type": "code",
      "metadata": {
        "colab": {
          "base_uri": "https://localhost:8080/",
          "height": 419
        },
        "id": "gg9bIk1QMSNa",
        "outputId": "0791b6e1-8ccb-4579-b676-0cf72d20d8cc"
      },
      "source": [
        "#I don't want Sexo column  . Then , I going to erase it\n",
        "df.drop('Sexo', axis = 1)"
      ],
      "execution_count": null,
      "outputs": [
        {
          "output_type": "execute_result",
          "data": {
            "text/html": [
              "<div>\n",
              "<style scoped>\n",
              "    .dataframe tbody tr th:only-of-type {\n",
              "        vertical-align: middle;\n",
              "    }\n",
              "\n",
              "    .dataframe tbody tr th {\n",
              "        vertical-align: top;\n",
              "    }\n",
              "\n",
              "    .dataframe thead th {\n",
              "        text-align: right;\n",
              "    }\n",
              "</style>\n",
              "<table border=\"1\" class=\"dataframe\">\n",
              "  <thead>\n",
              "    <tr style=\"text-align: right;\">\n",
              "      <th></th>\n",
              "      <th>Longitud</th>\n",
              "      <th>Diámetro</th>\n",
              "      <th>Altura</th>\n",
              "      <th>Peso total</th>\n",
              "      <th>Peso sin concha</th>\n",
              "      <th>Peso de las vísceras</th>\n",
              "      <th>Peso del caparazón</th>\n",
              "      <th>Anillos</th>\n",
              "      <th>Edad</th>\n",
              "    </tr>\n",
              "  </thead>\n",
              "  <tbody>\n",
              "    <tr>\n",
              "      <th>0</th>\n",
              "      <td>0.705</td>\n",
              "      <td>0.555</td>\n",
              "      <td>0.195</td>\n",
              "      <td>1.7525</td>\n",
              "      <td>0.7105</td>\n",
              "      <td>0.4215</td>\n",
              "      <td>0.516</td>\n",
              "      <td>12</td>\n",
              "      <td>13.5</td>\n",
              "    </tr>\n",
              "    <tr>\n",
              "      <th>1</th>\n",
              "      <td>0.300</td>\n",
              "      <td>0.220</td>\n",
              "      <td>0.065</td>\n",
              "      <td>0.1195</td>\n",
              "      <td>0.0520</td>\n",
              "      <td>0.0155</td>\n",
              "      <td>0.035</td>\n",
              "      <td>5</td>\n",
              "      <td>6.5</td>\n",
              "    </tr>\n",
              "    <tr>\n",
              "      <th>2</th>\n",
              "      <td>0.545</td>\n",
              "      <td>0.400</td>\n",
              "      <td>0.130</td>\n",
              "      <td>0.6860</td>\n",
              "      <td>0.3285</td>\n",
              "      <td>0.1455</td>\n",
              "      <td>0.180</td>\n",
              "      <td>9</td>\n",
              "      <td>10.5</td>\n",
              "    </tr>\n",
              "    <tr>\n",
              "      <th>3</th>\n",
              "      <td>0.485</td>\n",
              "      <td>0.365</td>\n",
              "      <td>0.090</td>\n",
              "      <td>0.6510</td>\n",
              "      <td>0.3165</td>\n",
              "      <td>0.1320</td>\n",
              "      <td>0.180</td>\n",
              "      <td>8</td>\n",
              "      <td>9.5</td>\n",
              "    </tr>\n",
              "    <tr>\n",
              "      <th>4</th>\n",
              "      <td>0.475</td>\n",
              "      <td>0.360</td>\n",
              "      <td>0.110</td>\n",
              "      <td>0.4555</td>\n",
              "      <td>0.1770</td>\n",
              "      <td>0.0965</td>\n",
              "      <td>0.145</td>\n",
              "      <td>9</td>\n",
              "      <td>10.5</td>\n",
              "    </tr>\n",
              "    <tr>\n",
              "      <th>...</th>\n",
              "      <td>...</td>\n",
              "      <td>...</td>\n",
              "      <td>...</td>\n",
              "      <td>...</td>\n",
              "      <td>...</td>\n",
              "      <td>...</td>\n",
              "      <td>...</td>\n",
              "      <td>...</td>\n",
              "      <td>...</td>\n",
              "    </tr>\n",
              "    <tr>\n",
              "      <th>3172</th>\n",
              "      <td>0.480</td>\n",
              "      <td>0.355</td>\n",
              "      <td>0.125</td>\n",
              "      <td>0.4940</td>\n",
              "      <td>0.2385</td>\n",
              "      <td>0.0835</td>\n",
              "      <td>0.150</td>\n",
              "      <td>9</td>\n",
              "      <td>10.5</td>\n",
              "    </tr>\n",
              "    <tr>\n",
              "      <th>3173</th>\n",
              "      <td>0.535</td>\n",
              "      <td>0.415</td>\n",
              "      <td>0.185</td>\n",
              "      <td>0.8415</td>\n",
              "      <td>0.3140</td>\n",
              "      <td>0.1585</td>\n",
              "      <td>0.300</td>\n",
              "      <td>15</td>\n",
              "      <td>16.5</td>\n",
              "    </tr>\n",
              "    <tr>\n",
              "      <th>3174</th>\n",
              "      <td>0.500</td>\n",
              "      <td>0.400</td>\n",
              "      <td>0.125</td>\n",
              "      <td>0.5975</td>\n",
              "      <td>0.2700</td>\n",
              "      <td>0.1275</td>\n",
              "      <td>0.166</td>\n",
              "      <td>9</td>\n",
              "      <td>10.5</td>\n",
              "    </tr>\n",
              "    <tr>\n",
              "      <th>3175</th>\n",
              "      <td>0.570</td>\n",
              "      <td>0.440</td>\n",
              "      <td>0.120</td>\n",
              "      <td>0.8030</td>\n",
              "      <td>0.3820</td>\n",
              "      <td>0.1525</td>\n",
              "      <td>0.234</td>\n",
              "      <td>9</td>\n",
              "      <td>10.5</td>\n",
              "    </tr>\n",
              "    <tr>\n",
              "      <th>3176</th>\n",
              "      <td>0.530</td>\n",
              "      <td>0.400</td>\n",
              "      <td>0.125</td>\n",
              "      <td>0.6170</td>\n",
              "      <td>0.2790</td>\n",
              "      <td>0.1270</td>\n",
              "      <td>0.190</td>\n",
              "      <td>8</td>\n",
              "      <td>9.5</td>\n",
              "    </tr>\n",
              "  </tbody>\n",
              "</table>\n",
              "<p>3177 rows × 9 columns</p>\n",
              "</div>"
            ],
            "text/plain": [
              "      Longitud  Diámetro  Altura  ...  Peso del caparazón  Anillos  Edad\n",
              "0        0.705     0.555   0.195  ...               0.516       12  13.5\n",
              "1        0.300     0.220   0.065  ...               0.035        5   6.5\n",
              "2        0.545     0.400   0.130  ...               0.180        9  10.5\n",
              "3        0.485     0.365   0.090  ...               0.180        8   9.5\n",
              "4        0.475     0.360   0.110  ...               0.145        9  10.5\n",
              "...        ...       ...     ...  ...                 ...      ...   ...\n",
              "3172     0.480     0.355   0.125  ...               0.150        9  10.5\n",
              "3173     0.535     0.415   0.185  ...               0.300       15  16.5\n",
              "3174     0.500     0.400   0.125  ...               0.166        9  10.5\n",
              "3175     0.570     0.440   0.120  ...               0.234        9  10.5\n",
              "3176     0.530     0.400   0.125  ...               0.190        8   9.5\n",
              "\n",
              "[3177 rows x 9 columns]"
            ]
          },
          "metadata": {
            "tags": []
          },
          "execution_count": 9
        }
      ]
    },
    {
      "cell_type": "markdown",
      "metadata": {
        "id": "kahLSlg6LuCS"
      },
      "source": [
        "## SPLIT THE DATA"
      ]
    },
    {
      "cell_type": "code",
      "metadata": {
        "id": "o57YU6cAL8TK"
      },
      "source": [
        "#Select your variables --> x : features variables , y : target variable\n",
        "x = df[['Longitud', 'Diámetro', 'Altura', 'Peso total',\n",
        "       'Peso sin concha', 'Peso de las vísceras', 'Peso del caparazón',\n",
        "       'Anillos']]\n",
        "y = df['Edad']"
      ],
      "execution_count": null,
      "outputs": []
    },
    {
      "cell_type": "code",
      "metadata": {
        "id": "yJDb84mGLwdf"
      },
      "source": [
        "#Split our datas on train data and test data\n",
        "from sklearn.model_selection import train_test_split\n",
        "\n",
        "x_train , x_test , y_train , y_test = train_test_split(x,y,test_size = 0.2)"
      ],
      "execution_count": null,
      "outputs": []
    },
    {
      "cell_type": "markdown",
      "metadata": {
        "id": "zl6lcDSzLGer"
      },
      "source": [
        "## USING LINEAR REGRESSION"
      ]
    },
    {
      "cell_type": "code",
      "metadata": {
        "id": "xbBU1Eq0M7Zs"
      },
      "source": [
        "regression = LinearRegression()\n",
        "\n",
        "#Train the model\n",
        "regression.fit(x_train,y_train)\n",
        "\n",
        "#predict with the model\n",
        "edad_pred = regression.predict(x_test)"
      ],
      "execution_count": null,
      "outputs": []
    },
    {
      "cell_type": "code",
      "metadata": {
        "colab": {
          "base_uri": "https://localhost:8080/"
        },
        "id": "1WO1vPZJNUIx",
        "outputId": "537a3132-26ac-42d3-ac91-61dc799c3c9f"
      },
      "source": [
        "edad_pred"
      ],
      "execution_count": null,
      "outputs": [
        {
          "output_type": "execute_result",
          "data": {
            "text/plain": [
              "array([14.5, 17.5, 10.5, 14.5,  9.5,  9.5,  7.5,  9.5, 14.5, 11.5, 11.5,\n",
              "       16.5, 10.5,  8.5,  8.5, 11.5, 13.5,  8.5,  9.5,  6.5, 12.5, 12.5,\n",
              "       10.5, 11.5, 10.5, 11.5, 12.5, 11.5, 18.5, 13.5, 13.5, 14.5,  8.5,\n",
              "        9.5, 10.5,  6.5, 14.5,  9.5, 11.5, 10.5, 10.5,  9.5, 27.5,  8.5,\n",
              "       12.5, 12.5, 11.5, 10.5, 13.5, 11.5, 12.5, 16.5, 11.5, 11.5, 11.5,\n",
              "       10.5, 10.5, 11.5, 14.5,  9.5,  9.5, 11.5, 12.5, 10.5, 10.5, 15.5,\n",
              "        9.5,  8.5,  9.5, 10.5, 17.5, 11.5,  7.5, 15.5,  9.5,  5.5,  7.5,\n",
              "        9.5,  9.5,  9.5, 10.5, 10.5,  9.5, 10.5,  6.5,  8.5,  8.5,  9.5,\n",
              "       14.5, 12.5,  9.5, 10.5, 10.5, 23.5,  7.5,  7.5, 13.5, 11.5, 11.5,\n",
              "       11.5,  8.5, 12.5,  8.5, 13.5, 11.5, 10.5, 11.5, 11.5,  8.5, 11.5,\n",
              "       12.5, 11.5, 11.5, 12.5, 10.5, 10.5, 12.5, 10.5,  7.5,  9.5, 10.5,\n",
              "       11.5,  6.5,  9.5,  7.5, 11.5,  9.5, 10.5, 19.5,  9.5,  8.5,  5.5,\n",
              "       12.5, 14.5, 10.5, 10.5, 11.5, 11.5, 14.5, 10.5,  6.5, 14.5,  9.5,\n",
              "       13.5, 10.5, 10.5, 10.5, 10.5,  7.5, 11.5,  8.5, 12.5,  9.5, 19.5,\n",
              "       14.5, 11.5, 11.5, 12.5, 21.5, 12.5, 14.5,  8.5, 10.5,  8.5, 12.5,\n",
              "       15.5, 14.5, 10.5, 12.5,  8.5, 11.5,  8.5, 16.5,  7.5, 10.5, 11.5,\n",
              "       12.5, 10.5, 10.5, 12.5, 10.5,  9.5, 19.5, 13.5, 12.5, 10.5, 10.5,\n",
              "        9.5,  8.5, 10.5, 15.5,  9.5, 11.5,  9.5, 12.5,  5.5, 11.5, 12.5,\n",
              "        9.5, 14.5, 11.5,  8.5, 10.5, 10.5, 11.5, 12.5,  7.5,  9.5, 12.5,\n",
              "       11.5,  8.5,  6.5, 12.5, 10.5,  9.5, 11.5, 10.5, 14.5, 10.5,  9.5,\n",
              "       14.5, 10.5, 22.5,  7.5,  9.5,  9.5, 11.5,  9.5,  6.5,  8.5, 10.5,\n",
              "       14.5, 15.5, 17.5, 10.5, 10.5, 17.5,  8.5, 14.5, 10.5, 12.5,  9.5,\n",
              "       10.5,  8.5, 13.5, 13.5, 20.5, 16.5, 11.5, 12.5, 12.5,  9.5,  8.5,\n",
              "       10.5, 12.5,  9.5, 12.5, 11.5, 13.5, 13.5, 11.5, 12.5, 11.5, 11.5,\n",
              "       13.5,  6.5,  7.5, 13.5, 11.5, 11.5, 22.5, 10.5, 12.5, 12.5,  7.5,\n",
              "       16.5, 14.5, 11.5, 18.5,  9.5, 12.5,  8.5, 12.5,  9.5,  9.5, 17.5,\n",
              "       13.5, 10.5, 11.5, 14.5, 12.5,  8.5, 10.5,  8.5, 14.5,  7.5, 11.5,\n",
              "       13.5, 12.5, 11.5,  9.5, 10.5, 10.5, 11.5, 21.5, 13.5, 10.5, 11.5,\n",
              "        7.5,  9.5,  9.5, 11.5, 10.5,  7.5, 13.5, 13.5,  9.5,  9.5,  7.5,\n",
              "        4.5, 11.5, 17.5, 11.5,  8.5, 11.5, 10.5,  8.5, 17.5, 17.5,  7.5,\n",
              "       10.5, 10.5, 16.5, 14.5, 16.5,  9.5, 14.5, 10.5, 11.5, 11.5,  9.5,\n",
              "       11.5, 13.5,  8.5,  9.5,  5.5, 18.5, 10.5, 14.5,  7.5, 10.5, 13.5,\n",
              "       11.5,  6.5, 11.5, 18.5, 14.5, 12.5, 10.5, 11.5, 10.5, 15.5, 12.5,\n",
              "       12.5, 10.5,  9.5,  9.5, 11.5,  7.5, 10.5, 22.5, 19.5, 10.5,  7.5,\n",
              "        5.5, 11.5,  6.5,  9.5, 11.5,  9.5,  8.5,  7.5, 10.5, 12.5,  6.5,\n",
              "       15.5,  9.5,  7.5, 10.5, 10.5,  8.5, 13.5,  9.5,  9.5, 11.5,  9.5,\n",
              "       13.5,  9.5, 22.5, 18.5, 10.5, 10.5, 12.5, 13.5,  7.5, 10.5, 10.5,\n",
              "       13.5,  6.5,  8.5,  6.5, 11.5, 14.5, 10.5, 15.5, 12.5, 17.5, 13.5,\n",
              "       10.5, 16.5, 12.5, 10.5,  8.5, 13.5, 21.5, 19.5, 17.5,  7.5, 11.5,\n",
              "       15.5,  9.5, 11.5, 11.5,  8.5,  9.5,  7.5,  9.5, 16.5,  6.5,  8.5,\n",
              "       10.5,  7.5, 10.5,  9.5, 19.5, 10.5,  9.5, 11.5, 10.5, 11.5, 12.5,\n",
              "        5.5, 11.5, 10.5, 14.5,  8.5, 12.5, 11.5, 12.5, 18.5,  8.5,  8.5,\n",
              "       12.5, 14.5, 18.5, 11.5, 12.5, 13.5, 10.5, 12.5, 10.5, 10.5, 20.5,\n",
              "       18.5, 11.5, 16.5, 12.5, 10.5, 12.5,  7.5, 14.5, 11.5,  7.5, 11.5,\n",
              "        7.5,  9.5,  8.5, 11.5, 12.5, 15.5,  8.5, 13.5,  8.5,  5.5,  8.5,\n",
              "       11.5, 12.5, 10.5,  9.5, 12.5,  9.5, 12.5, 10.5, 10.5,  6.5, 10.5,\n",
              "        7.5, 16.5, 10.5,  8.5, 19.5, 13.5,  9.5, 14.5,  7.5,  8.5, 12.5,\n",
              "       14.5, 18.5, 10.5, 14.5, 11.5,  9.5,  9.5, 11.5, 10.5,  8.5, 14.5,\n",
              "        9.5,  9.5,  9.5, 10.5, 18.5, 11.5,  9.5, 10.5,  8.5, 10.5, 10.5,\n",
              "       12.5, 11.5, 16.5,  9.5, 14.5, 11.5, 11.5, 10.5, 13.5,  9.5, 16.5,\n",
              "       12.5, 12.5, 11.5, 10.5,  8.5,  6.5, 19.5, 10.5, 13.5,  9.5, 11.5,\n",
              "       13.5, 14.5, 14.5, 10.5, 10.5, 12.5, 11.5, 11.5, 12.5, 20.5, 12.5,\n",
              "       12.5,  7.5, 12.5,  9.5, 10.5, 11.5,  8.5,  9.5, 11.5, 11.5, 15.5,\n",
              "       16.5, 10.5, 10.5,  6.5, 14.5,  9.5, 10.5, 10.5,  6.5,  6.5, 11.5,\n",
              "        8.5, 10.5, 13.5, 18.5, 11.5, 13.5, 14.5, 14.5,  8.5,  9.5, 14.5,\n",
              "        6.5,  7.5,  6.5, 11.5, 17.5,  9.5, 12.5,  8.5, 11.5, 13.5,  9.5,\n",
              "        6.5, 12.5,  8.5, 16.5, 12.5, 15.5, 10.5, 21.5, 13.5, 12.5,  8.5,\n",
              "       12.5, 11.5, 10.5,  5.5,  9.5, 15.5, 10.5, 14.5, 19.5])"
            ]
          },
          "metadata": {
            "tags": []
          },
          "execution_count": 49
        }
      ]
    },
    {
      "cell_type": "code",
      "metadata": {
        "colab": {
          "base_uri": "https://localhost:8080/"
        },
        "id": "HeqLG1zHPf8j",
        "outputId": "3c265926-546b-48bc-fd1b-cf25361237b2"
      },
      "source": [
        "y_test"
      ],
      "execution_count": null,
      "outputs": [
        {
          "output_type": "execute_result",
          "data": {
            "text/plain": [
              "916     14.5\n",
              "1306    17.5\n",
              "1432    10.5\n",
              "1417    14.5\n",
              "2741     9.5\n",
              "        ... \n",
              "2620     9.5\n",
              "71      15.5\n",
              "2184    10.5\n",
              "1573    14.5\n",
              "867     19.5\n",
              "Name: Edad, Length: 636, dtype: float64"
            ]
          },
          "metadata": {
            "tags": []
          },
          "execution_count": 50
        }
      ]
    },
    {
      "cell_type": "markdown",
      "metadata": {
        "id": "ZiwW0qBOOd6k"
      },
      "source": [
        "## Visualization about it in a dataframe"
      ]
    },
    {
      "cell_type": "code",
      "metadata": {
        "id": "372kWKZZN6Hu"
      },
      "source": [
        "y_test_a = np.array(y_test)\n",
        "df2 = pd.DataFrame(y_test_a , columns=['Real Data'])"
      ],
      "execution_count": null,
      "outputs": []
    },
    {
      "cell_type": "code",
      "metadata": {
        "colab": {
          "base_uri": "https://localhost:8080/",
          "height": 204
        },
        "id": "CKmoJh-ZNuPG",
        "outputId": "4a5b15dc-ccb7-4287-adf1-e3bd41137916"
      },
      "source": [
        "df2['Predict Data'] = edad_pred\n",
        "df2.head() #Show only top 5 values"
      ],
      "execution_count": null,
      "outputs": [
        {
          "output_type": "execute_result",
          "data": {
            "text/html": [
              "<div>\n",
              "<style scoped>\n",
              "    .dataframe tbody tr th:only-of-type {\n",
              "        vertical-align: middle;\n",
              "    }\n",
              "\n",
              "    .dataframe tbody tr th {\n",
              "        vertical-align: top;\n",
              "    }\n",
              "\n",
              "    .dataframe thead th {\n",
              "        text-align: right;\n",
              "    }\n",
              "</style>\n",
              "<table border=\"1\" class=\"dataframe\">\n",
              "  <thead>\n",
              "    <tr style=\"text-align: right;\">\n",
              "      <th></th>\n",
              "      <th>Real Data</th>\n",
              "      <th>Predict Data</th>\n",
              "    </tr>\n",
              "  </thead>\n",
              "  <tbody>\n",
              "    <tr>\n",
              "      <th>0</th>\n",
              "      <td>14.5</td>\n",
              "      <td>14.5</td>\n",
              "    </tr>\n",
              "    <tr>\n",
              "      <th>1</th>\n",
              "      <td>17.5</td>\n",
              "      <td>17.5</td>\n",
              "    </tr>\n",
              "    <tr>\n",
              "      <th>2</th>\n",
              "      <td>10.5</td>\n",
              "      <td>10.5</td>\n",
              "    </tr>\n",
              "    <tr>\n",
              "      <th>3</th>\n",
              "      <td>14.5</td>\n",
              "      <td>14.5</td>\n",
              "    </tr>\n",
              "    <tr>\n",
              "      <th>4</th>\n",
              "      <td>9.5</td>\n",
              "      <td>9.5</td>\n",
              "    </tr>\n",
              "  </tbody>\n",
              "</table>\n",
              "</div>"
            ],
            "text/plain": [
              "   Real Data  Predict Data\n",
              "0       14.5          14.5\n",
              "1       17.5          17.5\n",
              "2       10.5          10.5\n",
              "3       14.5          14.5\n",
              "4        9.5           9.5"
            ]
          },
          "metadata": {
            "tags": []
          },
          "execution_count": 52
        }
      ]
    },
    {
      "cell_type": "markdown",
      "metadata": {
        "id": "cd82jG5TPM1F"
      },
      "source": [
        "## COMMON ERRORS "
      ]
    },
    {
      "cell_type": "code",
      "metadata": {
        "colab": {
          "base_uri": "https://localhost:8080/"
        },
        "id": "ruY7LzZrPxXt",
        "outputId": "b149f297-974c-4b65-e991-c500ed8a67dc"
      },
      "source": [
        "#MAE\n",
        "mae = mean_absolute_error(y_test , edad_pred)\n",
        "mae"
      ],
      "execution_count": null,
      "outputs": [
        {
          "output_type": "execute_result",
          "data": {
            "text/plain": [
              "1.1172055593712267e-15"
            ]
          },
          "metadata": {
            "tags": []
          },
          "execution_count": 39
        }
      ]
    },
    {
      "cell_type": "code",
      "metadata": {
        "colab": {
          "base_uri": "https://localhost:8080/"
        },
        "id": "4xwQcnZ6Py9X",
        "outputId": "83da8a6b-ced9-482e-ce5a-8141da8e20a1"
      },
      "source": [
        "#MSE\n",
        "mse = mean_squared_error(y_test , edad_pred)\n",
        "mse"
      ],
      "execution_count": null,
      "outputs": [
        {
          "output_type": "execute_result",
          "data": {
            "text/plain": [
              "3.18025056758911e-30"
            ]
          },
          "metadata": {
            "tags": []
          },
          "execution_count": 40
        }
      ]
    },
    {
      "cell_type": "code",
      "metadata": {
        "colab": {
          "base_uri": "https://localhost:8080/"
        },
        "id": "nSSS7rKYPzB_",
        "outputId": "0430ec0d-8174-488e-e813-6dc7d8488728"
      },
      "source": [
        "rmse = mse ** 0.5\n",
        "rmse"
      ],
      "execution_count": null,
      "outputs": [
        {
          "output_type": "execute_result",
          "data": {
            "text/plain": [
              "1.783325704292155e-15"
            ]
          },
          "metadata": {
            "tags": []
          },
          "execution_count": 41
        }
      ]
    },
    {
      "cell_type": "markdown",
      "metadata": {
        "id": "ITjrxV4wQXq4"
      },
      "source": [
        "## STATISTICAL SUMMARY"
      ]
    },
    {
      "cell_type": "code",
      "metadata": {
        "colab": {
          "base_uri": "https://localhost:8080/"
        },
        "id": "r5yM3OoKQZ3O",
        "outputId": "0fba6fc0-bd52-44e6-eb21-1781ee831d9f"
      },
      "source": [
        "import statsmodels.api as sm\n",
        "from scipy import stats\n",
        "\n",
        "X2 = sm.add_constant(x_train)\n",
        "est = sm.OLS(y_train, X2)\n",
        "\n",
        "est2 = est.fit()\n",
        "print(est2.summary())"
      ],
      "execution_count": null,
      "outputs": [
        {
          "output_type": "stream",
          "text": [
            "                            OLS Regression Results                            \n",
            "==============================================================================\n",
            "Dep. Variable:                   Edad   R-squared:                       1.000\n",
            "Model:                            OLS   Adj. R-squared:                  1.000\n",
            "Method:                 Least Squares   F-statistic:                 3.507e+31\n",
            "Date:                Wed, 30 Jun 2021   Prob (F-statistic):               0.00\n",
            "Time:                        00:13:12   Log-Likelihood:                 78390.\n",
            "No. Observations:                2541   AIC:                        -1.568e+05\n",
            "Df Residuals:                    2532   BIC:                        -1.567e+05\n",
            "Df Model:                           8                                         \n",
            "Covariance Type:            nonrobust                                         \n",
            "========================================================================================\n",
            "                           coef    std err          t      P>|t|      [0.025      0.975]\n",
            "----------------------------------------------------------------------------------------\n",
            "const                    1.5000   1.52e-15   9.88e+14      0.000       1.500       1.500\n",
            "Longitud              8.138e-15   1.07e-14      0.762      0.446   -1.28e-14    2.91e-14\n",
            "Diámetro             -5.437e-15    1.3e-14     -0.417      0.677    -3.1e-14    2.01e-14\n",
            "Altura               -1.416e-14   7.75e-15     -1.827      0.068   -2.94e-14    1.04e-15\n",
            "Peso total            1.731e-14   4.21e-15      4.116      0.000    9.06e-15    2.56e-14\n",
            "Peso sin concha      -2.162e-14   5.02e-15     -4.307      0.000   -3.15e-14   -1.18e-14\n",
            "Peso de las vísceras -4.231e-15   7.23e-15     -0.586      0.558   -1.84e-14    9.94e-15\n",
            "Peso del caparazón   -4.247e-16   6.42e-15     -0.066      0.947    -1.3e-14    1.22e-14\n",
            "Anillos                  1.0000   8.81e-17   1.14e+16      0.000       1.000       1.000\n",
            "==============================================================================\n",
            "Omnibus:                      286.265   Durbin-Watson:                   0.214\n",
            "Prob(Omnibus):                  0.000   Jarque-Bera (JB):              436.181\n",
            "Skew:                          -0.816   Prob(JB):                     1.93e-95\n",
            "Kurtosis:                       4.206   Cond. No.                         903.\n",
            "==============================================================================\n",
            "\n",
            "Warnings:\n",
            "[1] Standard Errors assume that the covariance matrix of the errors is correctly specified.\n"
          ],
          "name": "stdout"
        }
      ]
    }
  ]
}