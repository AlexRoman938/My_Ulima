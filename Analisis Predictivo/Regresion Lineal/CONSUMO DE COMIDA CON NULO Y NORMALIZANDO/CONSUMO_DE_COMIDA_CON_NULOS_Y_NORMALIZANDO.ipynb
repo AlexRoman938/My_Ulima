{
  "nbformat": 4,
  "nbformat_minor": 0,
  "metadata": {
    "colab": {
      "name": "CONSUMO DE COMIDA CON NULOS Y NORMALIZANDO",
      "provenance": [],
      "collapsed_sections": [
        "JODYjmfymNPW"
      ]
    },
    "kernelspec": {
      "name": "python3",
      "display_name": "Python 3"
    },
    "language_info": {
      "name": "python"
    }
  },
  "cells": [
    {
      "cell_type": "markdown",
      "metadata": {
        "id": "JODYjmfymNPW"
      },
      "source": [
        "# IMPORTAMOS LAS LIBRERIAS\n"
      ]
    },
    {
      "cell_type": "code",
      "metadata": {
        "id": "z47Rwvb7lPeL"
      },
      "source": [
        "import pandas as pd\n",
        "import matplotlib.pyplot as plt\n",
        "import numpy as np"
      ],
      "execution_count": null,
      "outputs": []
    },
    {
      "cell_type": "markdown",
      "metadata": {
        "id": "nr36KF0Gl5aX"
      },
      "source": [
        "# CARGAMOS EL DATASET CONSUMO DE COMIDA CON PANDAS"
      ]
    },
    {
      "cell_type": "code",
      "metadata": {
        "colab": {
          "base_uri": "https://localhost:8080/",
          "height": 545
        },
        "id": "170dgBuRmT9P",
        "outputId": "3188300c-9874-462d-fba5-0bc1d1f1df5d"
      },
      "source": [
        "df_consumo = pd.read_excel('2. Data Set Consumo Comida - ORANGE 3 .xlsx')\n",
        "df_consumo"
      ],
      "execution_count": null,
      "outputs": [
        {
          "output_type": "execute_result",
          "data": {
            "text/html": [
              "<div>\n",
              "<style scoped>\n",
              "    .dataframe tbody tr th:only-of-type {\n",
              "        vertical-align: middle;\n",
              "    }\n",
              "\n",
              "    .dataframe tbody tr th {\n",
              "        vertical-align: top;\n",
              "    }\n",
              "\n",
              "    .dataframe thead th {\n",
              "        text-align: right;\n",
              "    }\n",
              "</style>\n",
              "<table border=\"1\" class=\"dataframe\">\n",
              "  <thead>\n",
              "    <tr style=\"text-align: right;\">\n",
              "      <th></th>\n",
              "      <th>Gasto de Comida</th>\n",
              "      <th>Ingresos x 1000</th>\n",
              "      <th>Tamaño de Familia</th>\n",
              "      <th>Hijos</th>\n",
              "    </tr>\n",
              "  </thead>\n",
              "  <tbody>\n",
              "    <tr>\n",
              "      <th>0</th>\n",
              "      <td>3900</td>\n",
              "      <td>37.6</td>\n",
              "      <td>4.0</td>\n",
              "      <td>0.0</td>\n",
              "    </tr>\n",
              "    <tr>\n",
              "      <th>1</th>\n",
              "      <td>5300</td>\n",
              "      <td>51.5</td>\n",
              "      <td>5.0</td>\n",
              "      <td>1.0</td>\n",
              "    </tr>\n",
              "    <tr>\n",
              "      <th>2</th>\n",
              "      <td>4300</td>\n",
              "      <td>51.6</td>\n",
              "      <td>4.0</td>\n",
              "      <td>0.0</td>\n",
              "    </tr>\n",
              "    <tr>\n",
              "      <th>3</th>\n",
              "      <td>4900</td>\n",
              "      <td>46.8</td>\n",
              "      <td>5.0</td>\n",
              "      <td>0.0</td>\n",
              "    </tr>\n",
              "    <tr>\n",
              "      <th>4</th>\n",
              "      <td>6400</td>\n",
              "      <td>53.8</td>\n",
              "      <td>6.0</td>\n",
              "      <td>1.0</td>\n",
              "    </tr>\n",
              "    <tr>\n",
              "      <th>5</th>\n",
              "      <td>7300</td>\n",
              "      <td>62.6</td>\n",
              "      <td>7.0</td>\n",
              "      <td>1.0</td>\n",
              "    </tr>\n",
              "    <tr>\n",
              "      <th>6</th>\n",
              "      <td>4900</td>\n",
              "      <td>54.3</td>\n",
              "      <td>5.0</td>\n",
              "      <td>0.0</td>\n",
              "    </tr>\n",
              "    <tr>\n",
              "      <th>7</th>\n",
              "      <td>5300</td>\n",
              "      <td>43.7</td>\n",
              "      <td>4.0</td>\n",
              "      <td>0.0</td>\n",
              "    </tr>\n",
              "    <tr>\n",
              "      <th>8</th>\n",
              "      <td>6100</td>\n",
              "      <td>60.8</td>\n",
              "      <td>5.0</td>\n",
              "      <td>1.0</td>\n",
              "    </tr>\n",
              "    <tr>\n",
              "      <th>9</th>\n",
              "      <td>6400</td>\n",
              "      <td>51.3</td>\n",
              "      <td>6.0</td>\n",
              "      <td>1.0</td>\n",
              "    </tr>\n",
              "    <tr>\n",
              "      <th>10</th>\n",
              "      <td>7400</td>\n",
              "      <td>49.3</td>\n",
              "      <td>6.0</td>\n",
              "      <td>1.0</td>\n",
              "    </tr>\n",
              "    <tr>\n",
              "      <th>11</th>\n",
              "      <td>5800</td>\n",
              "      <td>56.3</td>\n",
              "      <td>5.0</td>\n",
              "      <td>0.0</td>\n",
              "    </tr>\n",
              "    <tr>\n",
              "      <th>12</th>\n",
              "      <td>6979</td>\n",
              "      <td>NaN</td>\n",
              "      <td>5.0</td>\n",
              "      <td>1.0</td>\n",
              "    </tr>\n",
              "    <tr>\n",
              "      <th>13</th>\n",
              "      <td>6726</td>\n",
              "      <td>NaN</td>\n",
              "      <td>4.0</td>\n",
              "      <td>0.0</td>\n",
              "    </tr>\n",
              "    <tr>\n",
              "      <th>14</th>\n",
              "      <td>3041</td>\n",
              "      <td>35.5</td>\n",
              "      <td>NaN</td>\n",
              "      <td>1.0</td>\n",
              "    </tr>\n",
              "    <tr>\n",
              "      <th>15</th>\n",
              "      <td>5600</td>\n",
              "      <td>40.5</td>\n",
              "      <td>7.0</td>\n",
              "      <td>NaN</td>\n",
              "    </tr>\n",
              "  </tbody>\n",
              "</table>\n",
              "</div>"
            ],
            "text/plain": [
              "    Gasto de Comida  Ingresos x 1000  Tamaño de Familia  Hijos\n",
              "0              3900             37.6                4.0    0.0\n",
              "1              5300             51.5                5.0    1.0\n",
              "2              4300             51.6                4.0    0.0\n",
              "3              4900             46.8                5.0    0.0\n",
              "4              6400             53.8                6.0    1.0\n",
              "5              7300             62.6                7.0    1.0\n",
              "6              4900             54.3                5.0    0.0\n",
              "7              5300             43.7                4.0    0.0\n",
              "8              6100             60.8                5.0    1.0\n",
              "9              6400             51.3                6.0    1.0\n",
              "10             7400             49.3                6.0    1.0\n",
              "11             5800             56.3                5.0    0.0\n",
              "12             6979              NaN                5.0    1.0\n",
              "13             6726              NaN                4.0    0.0\n",
              "14             3041             35.5                NaN    1.0\n",
              "15             5600             40.5                7.0    NaN"
            ]
          },
          "metadata": {
            "tags": []
          },
          "execution_count": 3
        }
      ]
    },
    {
      "cell_type": "code",
      "metadata": {
        "colab": {
          "base_uri": "https://localhost:8080/"
        },
        "id": "7wxHKh60xUsy",
        "outputId": "aa638a7c-dd47-45c8-d164-a221af4d13be"
      },
      "source": [
        "df_consumo.columns #Ver las columnas del dataset"
      ],
      "execution_count": null,
      "outputs": [
        {
          "output_type": "execute_result",
          "data": {
            "text/plain": [
              "Index(['Gasto de Comida', 'Ingresos x 1000', 'Tamaño de Familia', 'Hijos'], dtype='object')"
            ]
          },
          "metadata": {
            "tags": []
          },
          "execution_count": 4
        }
      ]
    },
    {
      "cell_type": "markdown",
      "metadata": {
        "id": "2QpWxqQlmmcE"
      },
      "source": [
        "Observamos que hay algunos valores nulos en los campos Ingresos x 1000 , Tamaño de Familias e Hijos"
      ]
    },
    {
      "cell_type": "code",
      "metadata": {
        "colab": {
          "base_uri": "https://localhost:8080/"
        },
        "id": "ya2ypUEOmmAs",
        "outputId": "7b595878-4edf-4275-d2ea-34b9c6c0bd66"
      },
      "source": [
        "#Por si tenemos un dataset muy largo , esto es una buena forma de saber cuantos valores nulos hay en cada campo\n",
        "df_consumo.isnull().sum()"
      ],
      "execution_count": null,
      "outputs": [
        {
          "output_type": "execute_result",
          "data": {
            "text/plain": [
              "Gasto de Comida      0\n",
              "Ingresos x 1000      2\n",
              "Tamaño de Familia    1\n",
              "Hijos                1\n",
              "dtype: int64"
            ]
          },
          "metadata": {
            "tags": []
          },
          "execution_count": 5
        }
      ]
    },
    {
      "cell_type": "markdown",
      "metadata": {
        "id": "wu6OKLk3nG12"
      },
      "source": [
        "Para estos casos que hay valores nulos podemos eliminar los datos que tienen valores nulos , eliminar la columna que tiene valor nulo o convertir estos valores nulos en la media , promedio , mediana de sus otras variables de la columna.\n",
        "\n",
        "En este caso aplicaremos la mediana a los campos que tienen valores nulos"
      ]
    },
    {
      "cell_type": "markdown",
      "metadata": {
        "id": "jDnfbqbCyNnr"
      },
      "source": [
        "# ELIMINAR VALORES NULO"
      ]
    },
    {
      "cell_type": "code",
      "metadata": {
        "colab": {
          "base_uri": "https://localhost:8080/",
          "height": 545
        },
        "id": "DlGnFotNuwJp",
        "outputId": "e4e43a8b-d82a-4a76-d387-ccfe1326aabc"
      },
      "source": [
        "from sklearn.impute import SimpleImputer\n",
        "imputer = SimpleImputer(strategy=\"median\") #usamos la mediana\n",
        "df_consumo[['Gasto de Comida', 'Ingresos x 1000', 'Tamaño de Familia', 'Hijos']] = imputer.fit_transform(df_consumo[['Gasto de Comida', 'Ingresos x 1000', 'Tamaño de Familia', 'Hijos']])\n",
        "df_consumo"
      ],
      "execution_count": null,
      "outputs": [
        {
          "output_type": "execute_result",
          "data": {
            "text/html": [
              "<div>\n",
              "<style scoped>\n",
              "    .dataframe tbody tr th:only-of-type {\n",
              "        vertical-align: middle;\n",
              "    }\n",
              "\n",
              "    .dataframe tbody tr th {\n",
              "        vertical-align: top;\n",
              "    }\n",
              "\n",
              "    .dataframe thead th {\n",
              "        text-align: right;\n",
              "    }\n",
              "</style>\n",
              "<table border=\"1\" class=\"dataframe\">\n",
              "  <thead>\n",
              "    <tr style=\"text-align: right;\">\n",
              "      <th></th>\n",
              "      <th>Gasto de Comida</th>\n",
              "      <th>Ingresos x 1000</th>\n",
              "      <th>Tamaño de Familia</th>\n",
              "      <th>Hijos</th>\n",
              "    </tr>\n",
              "  </thead>\n",
              "  <tbody>\n",
              "    <tr>\n",
              "      <th>0</th>\n",
              "      <td>3900.0</td>\n",
              "      <td>37.6</td>\n",
              "      <td>4.0</td>\n",
              "      <td>0.0</td>\n",
              "    </tr>\n",
              "    <tr>\n",
              "      <th>1</th>\n",
              "      <td>5300.0</td>\n",
              "      <td>51.5</td>\n",
              "      <td>5.0</td>\n",
              "      <td>1.0</td>\n",
              "    </tr>\n",
              "    <tr>\n",
              "      <th>2</th>\n",
              "      <td>4300.0</td>\n",
              "      <td>51.6</td>\n",
              "      <td>4.0</td>\n",
              "      <td>0.0</td>\n",
              "    </tr>\n",
              "    <tr>\n",
              "      <th>3</th>\n",
              "      <td>4900.0</td>\n",
              "      <td>46.8</td>\n",
              "      <td>5.0</td>\n",
              "      <td>0.0</td>\n",
              "    </tr>\n",
              "    <tr>\n",
              "      <th>4</th>\n",
              "      <td>6400.0</td>\n",
              "      <td>53.8</td>\n",
              "      <td>6.0</td>\n",
              "      <td>1.0</td>\n",
              "    </tr>\n",
              "    <tr>\n",
              "      <th>5</th>\n",
              "      <td>7300.0</td>\n",
              "      <td>62.6</td>\n",
              "      <td>7.0</td>\n",
              "      <td>1.0</td>\n",
              "    </tr>\n",
              "    <tr>\n",
              "      <th>6</th>\n",
              "      <td>4900.0</td>\n",
              "      <td>54.3</td>\n",
              "      <td>5.0</td>\n",
              "      <td>0.0</td>\n",
              "    </tr>\n",
              "    <tr>\n",
              "      <th>7</th>\n",
              "      <td>5300.0</td>\n",
              "      <td>43.7</td>\n",
              "      <td>4.0</td>\n",
              "      <td>0.0</td>\n",
              "    </tr>\n",
              "    <tr>\n",
              "      <th>8</th>\n",
              "      <td>6100.0</td>\n",
              "      <td>60.8</td>\n",
              "      <td>5.0</td>\n",
              "      <td>1.0</td>\n",
              "    </tr>\n",
              "    <tr>\n",
              "      <th>9</th>\n",
              "      <td>6400.0</td>\n",
              "      <td>51.3</td>\n",
              "      <td>6.0</td>\n",
              "      <td>1.0</td>\n",
              "    </tr>\n",
              "    <tr>\n",
              "      <th>10</th>\n",
              "      <td>7400.0</td>\n",
              "      <td>49.3</td>\n",
              "      <td>6.0</td>\n",
              "      <td>1.0</td>\n",
              "    </tr>\n",
              "    <tr>\n",
              "      <th>11</th>\n",
              "      <td>5800.0</td>\n",
              "      <td>56.3</td>\n",
              "      <td>5.0</td>\n",
              "      <td>0.0</td>\n",
              "    </tr>\n",
              "    <tr>\n",
              "      <th>12</th>\n",
              "      <td>6979.0</td>\n",
              "      <td>51.4</td>\n",
              "      <td>5.0</td>\n",
              "      <td>1.0</td>\n",
              "    </tr>\n",
              "    <tr>\n",
              "      <th>13</th>\n",
              "      <td>6726.0</td>\n",
              "      <td>51.4</td>\n",
              "      <td>4.0</td>\n",
              "      <td>0.0</td>\n",
              "    </tr>\n",
              "    <tr>\n",
              "      <th>14</th>\n",
              "      <td>3041.0</td>\n",
              "      <td>35.5</td>\n",
              "      <td>5.0</td>\n",
              "      <td>1.0</td>\n",
              "    </tr>\n",
              "    <tr>\n",
              "      <th>15</th>\n",
              "      <td>5600.0</td>\n",
              "      <td>40.5</td>\n",
              "      <td>7.0</td>\n",
              "      <td>1.0</td>\n",
              "    </tr>\n",
              "  </tbody>\n",
              "</table>\n",
              "</div>"
            ],
            "text/plain": [
              "    Gasto de Comida  Ingresos x 1000  Tamaño de Familia  Hijos\n",
              "0            3900.0             37.6                4.0    0.0\n",
              "1            5300.0             51.5                5.0    1.0\n",
              "2            4300.0             51.6                4.0    0.0\n",
              "3            4900.0             46.8                5.0    0.0\n",
              "4            6400.0             53.8                6.0    1.0\n",
              "5            7300.0             62.6                7.0    1.0\n",
              "6            4900.0             54.3                5.0    0.0\n",
              "7            5300.0             43.7                4.0    0.0\n",
              "8            6100.0             60.8                5.0    1.0\n",
              "9            6400.0             51.3                6.0    1.0\n",
              "10           7400.0             49.3                6.0    1.0\n",
              "11           5800.0             56.3                5.0    0.0\n",
              "12           6979.0             51.4                5.0    1.0\n",
              "13           6726.0             51.4                4.0    0.0\n",
              "14           3041.0             35.5                5.0    1.0\n",
              "15           5600.0             40.5                7.0    1.0"
            ]
          },
          "metadata": {
            "tags": []
          },
          "execution_count": 6
        }
      ]
    },
    {
      "cell_type": "markdown",
      "metadata": {
        "id": "usxNteFSyKT0"
      },
      "source": [
        "Ahora el dataset esta sin valores nulos , listo para poder explorar los datos. Pero... Nos damos cuenta que entre los datos de las diferentes columnas , las escalas no son iguales."
      ]
    },
    {
      "cell_type": "markdown",
      "metadata": {
        "id": "wtJ7VUcx56i6"
      },
      "source": [
        "Cuando vemos esto , tenemos 2 métodos : Normalización y Estandarización.\n",
        "En este caso aplicaremos Normalización"
      ]
    },
    {
      "cell_type": "markdown",
      "metadata": {
        "id": "lBmwMXbs6CeK"
      },
      "source": [
        "# Normalizando"
      ]
    },
    {
      "cell_type": "code",
      "metadata": {
        "id": "CJXAorGt6q0B"
      },
      "source": [
        "from sklearn.preprocessing import MinMaxScaler\n",
        "scaler = MinMaxScaler()"
      ],
      "execution_count": null,
      "outputs": []
    },
    {
      "cell_type": "code",
      "metadata": {
        "colab": {
          "base_uri": "https://localhost:8080/",
          "height": 545
        },
        "id": "UBDcNKp87TFt",
        "outputId": "ccc6e7b0-29c0-4c92-8792-01520b8d0c10"
      },
      "source": [
        "df_consumo[['Gasto de Comida', 'Ingresos x 1000', 'Tamaño de Familia', 'Hijos']] = scaler.fit_transform(df_consumo[['Gasto de Comida', 'Ingresos x 1000', 'Tamaño de Familia', 'Hijos']])\n",
        "df_consumo"
      ],
      "execution_count": null,
      "outputs": [
        {
          "output_type": "execute_result",
          "data": {
            "text/html": [
              "<div>\n",
              "<style scoped>\n",
              "    .dataframe tbody tr th:only-of-type {\n",
              "        vertical-align: middle;\n",
              "    }\n",
              "\n",
              "    .dataframe tbody tr th {\n",
              "        vertical-align: top;\n",
              "    }\n",
              "\n",
              "    .dataframe thead th {\n",
              "        text-align: right;\n",
              "    }\n",
              "</style>\n",
              "<table border=\"1\" class=\"dataframe\">\n",
              "  <thead>\n",
              "    <tr style=\"text-align: right;\">\n",
              "      <th></th>\n",
              "      <th>Gasto de Comida</th>\n",
              "      <th>Ingresos x 1000</th>\n",
              "      <th>Tamaño de Familia</th>\n",
              "      <th>Hijos</th>\n",
              "    </tr>\n",
              "  </thead>\n",
              "  <tbody>\n",
              "    <tr>\n",
              "      <th>0</th>\n",
              "      <td>0.197064</td>\n",
              "      <td>0.077491</td>\n",
              "      <td>0.000000</td>\n",
              "      <td>0.0</td>\n",
              "    </tr>\n",
              "    <tr>\n",
              "      <th>1</th>\n",
              "      <td>0.518238</td>\n",
              "      <td>0.590406</td>\n",
              "      <td>0.333333</td>\n",
              "      <td>1.0</td>\n",
              "    </tr>\n",
              "    <tr>\n",
              "      <th>2</th>\n",
              "      <td>0.288828</td>\n",
              "      <td>0.594096</td>\n",
              "      <td>0.000000</td>\n",
              "      <td>0.0</td>\n",
              "    </tr>\n",
              "    <tr>\n",
              "      <th>3</th>\n",
              "      <td>0.426474</td>\n",
              "      <td>0.416974</td>\n",
              "      <td>0.333333</td>\n",
              "      <td>0.0</td>\n",
              "    </tr>\n",
              "    <tr>\n",
              "      <th>4</th>\n",
              "      <td>0.770590</td>\n",
              "      <td>0.675277</td>\n",
              "      <td>0.666667</td>\n",
              "      <td>1.0</td>\n",
              "    </tr>\n",
              "    <tr>\n",
              "      <th>5</th>\n",
              "      <td>0.977059</td>\n",
              "      <td>1.000000</td>\n",
              "      <td>1.000000</td>\n",
              "      <td>1.0</td>\n",
              "    </tr>\n",
              "    <tr>\n",
              "      <th>6</th>\n",
              "      <td>0.426474</td>\n",
              "      <td>0.693727</td>\n",
              "      <td>0.333333</td>\n",
              "      <td>0.0</td>\n",
              "    </tr>\n",
              "    <tr>\n",
              "      <th>7</th>\n",
              "      <td>0.518238</td>\n",
              "      <td>0.302583</td>\n",
              "      <td>0.000000</td>\n",
              "      <td>0.0</td>\n",
              "    </tr>\n",
              "    <tr>\n",
              "      <th>8</th>\n",
              "      <td>0.701766</td>\n",
              "      <td>0.933579</td>\n",
              "      <td>0.333333</td>\n",
              "      <td>1.0</td>\n",
              "    </tr>\n",
              "    <tr>\n",
              "      <th>9</th>\n",
              "      <td>0.770590</td>\n",
              "      <td>0.583026</td>\n",
              "      <td>0.666667</td>\n",
              "      <td>1.0</td>\n",
              "    </tr>\n",
              "    <tr>\n",
              "      <th>10</th>\n",
              "      <td>1.000000</td>\n",
              "      <td>0.509225</td>\n",
              "      <td>0.666667</td>\n",
              "      <td>1.0</td>\n",
              "    </tr>\n",
              "    <tr>\n",
              "      <th>11</th>\n",
              "      <td>0.632943</td>\n",
              "      <td>0.767528</td>\n",
              "      <td>0.333333</td>\n",
              "      <td>0.0</td>\n",
              "    </tr>\n",
              "    <tr>\n",
              "      <th>12</th>\n",
              "      <td>0.903418</td>\n",
              "      <td>0.586716</td>\n",
              "      <td>0.333333</td>\n",
              "      <td>1.0</td>\n",
              "    </tr>\n",
              "    <tr>\n",
              "      <th>13</th>\n",
              "      <td>0.845377</td>\n",
              "      <td>0.586716</td>\n",
              "      <td>0.000000</td>\n",
              "      <td>0.0</td>\n",
              "    </tr>\n",
              "    <tr>\n",
              "      <th>14</th>\n",
              "      <td>0.000000</td>\n",
              "      <td>0.000000</td>\n",
              "      <td>0.333333</td>\n",
              "      <td>1.0</td>\n",
              "    </tr>\n",
              "    <tr>\n",
              "      <th>15</th>\n",
              "      <td>0.587061</td>\n",
              "      <td>0.184502</td>\n",
              "      <td>1.000000</td>\n",
              "      <td>1.0</td>\n",
              "    </tr>\n",
              "  </tbody>\n",
              "</table>\n",
              "</div>"
            ],
            "text/plain": [
              "    Gasto de Comida  Ingresos x 1000  Tamaño de Familia  Hijos\n",
              "0          0.197064         0.077491           0.000000    0.0\n",
              "1          0.518238         0.590406           0.333333    1.0\n",
              "2          0.288828         0.594096           0.000000    0.0\n",
              "3          0.426474         0.416974           0.333333    0.0\n",
              "4          0.770590         0.675277           0.666667    1.0\n",
              "5          0.977059         1.000000           1.000000    1.0\n",
              "6          0.426474         0.693727           0.333333    0.0\n",
              "7          0.518238         0.302583           0.000000    0.0\n",
              "8          0.701766         0.933579           0.333333    1.0\n",
              "9          0.770590         0.583026           0.666667    1.0\n",
              "10         1.000000         0.509225           0.666667    1.0\n",
              "11         0.632943         0.767528           0.333333    0.0\n",
              "12         0.903418         0.586716           0.333333    1.0\n",
              "13         0.845377         0.586716           0.000000    0.0\n",
              "14         0.000000         0.000000           0.333333    1.0\n",
              "15         0.587061         0.184502           1.000000    1.0"
            ]
          },
          "metadata": {
            "tags": []
          },
          "execution_count": 8
        }
      ]
    },
    {
      "cell_type": "markdown",
      "metadata": {
        "id": "rmQ5JFme7gXd"
      },
      "source": [
        "Ahora tenemos nuestro dataframe normalizado"
      ]
    },
    {
      "cell_type": "markdown",
      "metadata": {
        "id": "f-WTij017j8V"
      },
      "source": [
        "# EXPLORANDO DATOS"
      ]
    },
    {
      "cell_type": "markdown",
      "metadata": {
        "id": "xAIbh1Zy7yHT"
      },
      "source": [
        "## TIPO DE DATOS DE COLUMNA"
      ]
    },
    {
      "cell_type": "code",
      "metadata": {
        "colab": {
          "base_uri": "https://localhost:8080/"
        },
        "id": "k6JybbvZ732h",
        "outputId": "19979e5b-11e0-447b-872c-8665cd4c1096"
      },
      "source": [
        "df_consumo.info()"
      ],
      "execution_count": null,
      "outputs": [
        {
          "output_type": "stream",
          "text": [
            "<class 'pandas.core.frame.DataFrame'>\n",
            "RangeIndex: 16 entries, 0 to 15\n",
            "Data columns (total 4 columns):\n",
            " #   Column             Non-Null Count  Dtype  \n",
            "---  ------             --------------  -----  \n",
            " 0   Gasto de Comida    16 non-null     float64\n",
            " 1   Ingresos x 1000    16 non-null     float64\n",
            " 2   Tamaño de Familia  16 non-null     float64\n",
            " 3   Hijos              16 non-null     float64\n",
            "dtypes: float64(4)\n",
            "memory usage: 640.0 bytes\n"
          ],
          "name": "stdout"
        }
      ]
    },
    {
      "cell_type": "markdown",
      "metadata": {
        "id": "OGthZA7Q7mc6"
      },
      "source": [
        "## DATOS ESTADISTICOS"
      ]
    },
    {
      "cell_type": "code",
      "metadata": {
        "colab": {
          "base_uri": "https://localhost:8080/",
          "height": 297
        },
        "id": "sXPDCMj37rDc",
        "outputId": "e8614f1e-9c5b-4cc2-f6d3-8cf0f82579dd"
      },
      "source": [
        "df_consumo.describe()"
      ],
      "execution_count": null,
      "outputs": [
        {
          "output_type": "execute_result",
          "data": {
            "text/html": [
              "<div>\n",
              "<style scoped>\n",
              "    .dataframe tbody tr th:only-of-type {\n",
              "        vertical-align: middle;\n",
              "    }\n",
              "\n",
              "    .dataframe tbody tr th {\n",
              "        vertical-align: top;\n",
              "    }\n",
              "\n",
              "    .dataframe thead th {\n",
              "        text-align: right;\n",
              "    }\n",
              "</style>\n",
              "<table border=\"1\" class=\"dataframe\">\n",
              "  <thead>\n",
              "    <tr style=\"text-align: right;\">\n",
              "      <th></th>\n",
              "      <th>Gasto de Comida</th>\n",
              "      <th>Ingresos x 1000</th>\n",
              "      <th>Tamaño de Familia</th>\n",
              "      <th>Hijos</th>\n",
              "    </tr>\n",
              "  </thead>\n",
              "  <tbody>\n",
              "    <tr>\n",
              "      <th>count</th>\n",
              "      <td>16.000000</td>\n",
              "      <td>16.000000</td>\n",
              "      <td>16.000000</td>\n",
              "      <td>16.000000</td>\n",
              "    </tr>\n",
              "    <tr>\n",
              "      <th>mean</th>\n",
              "      <td>0.597758</td>\n",
              "      <td>0.531365</td>\n",
              "      <td>0.395833</td>\n",
              "      <td>0.562500</td>\n",
              "    </tr>\n",
              "    <tr>\n",
              "      <th>std</th>\n",
              "      <td>0.284834</td>\n",
              "      <td>0.279886</td>\n",
              "      <td>0.327024</td>\n",
              "      <td>0.512348</td>\n",
              "    </tr>\n",
              "    <tr>\n",
              "      <th>min</th>\n",
              "      <td>0.000000</td>\n",
              "      <td>0.000000</td>\n",
              "      <td>0.000000</td>\n",
              "      <td>0.000000</td>\n",
              "    </tr>\n",
              "    <tr>\n",
              "      <th>25%</th>\n",
              "      <td>0.426474</td>\n",
              "      <td>0.388376</td>\n",
              "      <td>0.250000</td>\n",
              "      <td>0.000000</td>\n",
              "    </tr>\n",
              "    <tr>\n",
              "      <th>50%</th>\n",
              "      <td>0.610002</td>\n",
              "      <td>0.586716</td>\n",
              "      <td>0.333333</td>\n",
              "      <td>1.000000</td>\n",
              "    </tr>\n",
              "    <tr>\n",
              "      <th>75%</th>\n",
              "      <td>0.789287</td>\n",
              "      <td>0.679889</td>\n",
              "      <td>0.666667</td>\n",
              "      <td>1.000000</td>\n",
              "    </tr>\n",
              "    <tr>\n",
              "      <th>max</th>\n",
              "      <td>1.000000</td>\n",
              "      <td>1.000000</td>\n",
              "      <td>1.000000</td>\n",
              "      <td>1.000000</td>\n",
              "    </tr>\n",
              "  </tbody>\n",
              "</table>\n",
              "</div>"
            ],
            "text/plain": [
              "       Gasto de Comida  Ingresos x 1000  Tamaño de Familia      Hijos\n",
              "count        16.000000        16.000000          16.000000  16.000000\n",
              "mean          0.597758         0.531365           0.395833   0.562500\n",
              "std           0.284834         0.279886           0.327024   0.512348\n",
              "min           0.000000         0.000000           0.000000   0.000000\n",
              "25%           0.426474         0.388376           0.250000   0.000000\n",
              "50%           0.610002         0.586716           0.333333   1.000000\n",
              "75%           0.789287         0.679889           0.666667   1.000000\n",
              "max           1.000000         1.000000           1.000000   1.000000"
            ]
          },
          "metadata": {
            "tags": []
          },
          "execution_count": 10
        }
      ]
    },
    {
      "cell_type": "markdown",
      "metadata": {
        "id": "NGfcUALt8EFr"
      },
      "source": [
        "## CORRELACION"
      ]
    },
    {
      "cell_type": "code",
      "metadata": {
        "colab": {
          "base_uri": "https://localhost:8080/",
          "height": 173
        },
        "id": "_HFyC6qn8H9T",
        "outputId": "4c3984af-531c-4542-bfc9-e1dd725f76c1"
      },
      "source": [
        "df_consumo_corr = df_consumo.corr()\n",
        "df_consumo_corr"
      ],
      "execution_count": null,
      "outputs": [
        {
          "output_type": "execute_result",
          "data": {
            "text/html": [
              "<div>\n",
              "<style scoped>\n",
              "    .dataframe tbody tr th:only-of-type {\n",
              "        vertical-align: middle;\n",
              "    }\n",
              "\n",
              "    .dataframe tbody tr th {\n",
              "        vertical-align: top;\n",
              "    }\n",
              "\n",
              "    .dataframe thead th {\n",
              "        text-align: right;\n",
              "    }\n",
              "</style>\n",
              "<table border=\"1\" class=\"dataframe\">\n",
              "  <thead>\n",
              "    <tr style=\"text-align: right;\">\n",
              "      <th></th>\n",
              "      <th>Gasto de Comida</th>\n",
              "      <th>Ingresos x 1000</th>\n",
              "      <th>Tamaño de Familia</th>\n",
              "      <th>Hijos</th>\n",
              "    </tr>\n",
              "  </thead>\n",
              "  <tbody>\n",
              "    <tr>\n",
              "      <th>Gasto de Comida</th>\n",
              "      <td>1.000000</td>\n",
              "      <td>0.646022</td>\n",
              "      <td>0.483497</td>\n",
              "      <td>0.387803</td>\n",
              "    </tr>\n",
              "    <tr>\n",
              "      <th>Ingresos x 1000</th>\n",
              "      <td>0.646022</td>\n",
              "      <td>1.000000</td>\n",
              "      <td>0.238309</td>\n",
              "      <td>0.130379</td>\n",
              "    </tr>\n",
              "    <tr>\n",
              "      <th>Tamaño de Familia</th>\n",
              "      <td>0.483497</td>\n",
              "      <td>0.238309</td>\n",
              "      <td>1.000000</td>\n",
              "      <td>0.704600</td>\n",
              "    </tr>\n",
              "    <tr>\n",
              "      <th>Hijos</th>\n",
              "      <td>0.387803</td>\n",
              "      <td>0.130379</td>\n",
              "      <td>0.704600</td>\n",
              "      <td>1.000000</td>\n",
              "    </tr>\n",
              "  </tbody>\n",
              "</table>\n",
              "</div>"
            ],
            "text/plain": [
              "                   Gasto de Comida  ...     Hijos\n",
              "Gasto de Comida           1.000000  ...  0.387803\n",
              "Ingresos x 1000           0.646022  ...  0.130379\n",
              "Tamaño de Familia         0.483497  ...  0.704600\n",
              "Hijos                     0.387803  ...  1.000000\n",
              "\n",
              "[4 rows x 4 columns]"
            ]
          },
          "metadata": {
            "tags": []
          },
          "execution_count": 11
        }
      ]
    },
    {
      "cell_type": "markdown",
      "metadata": {
        "id": "qb8EiewxsPu-"
      },
      "source": [
        "## VER DE MANERA ESPECIFICA LA CORRELACION DE LA VARIABLE DEPENDIENTE \"GASTO DE COMIDA\" CON LAS OTRAS VARIABLES INDEPENDIENTES Y EN SI MISMA"
      ]
    },
    {
      "cell_type": "code",
      "metadata": {
        "colab": {
          "base_uri": "https://localhost:8080/"
        },
        "id": "W5mMn3-ksUas",
        "outputId": "952dd4b9-f450-477a-8479-a624a44ff3af"
      },
      "source": [
        "df_consumo_corr['Gasto de Comida'].sort_values(ascending = False) # Lo ordenamos de mayor a menor"
      ],
      "execution_count": null,
      "outputs": [
        {
          "output_type": "execute_result",
          "data": {
            "text/plain": [
              "Gasto de Comida      1.000000\n",
              "Ingresos x 1000      0.646022\n",
              "Tamaño de Familia    0.483497\n",
              "Hijos                0.387803\n",
              "Name: Gasto de Comida, dtype: float64"
            ]
          },
          "metadata": {
            "tags": []
          },
          "execution_count": 12
        }
      ]
    },
    {
      "cell_type": "markdown",
      "metadata": {
        "id": "fubZNogK8dAj"
      },
      "source": [
        "## VER DE MANERA GRÁFICA LA CORRELACIÓN ENTRE LA VARIABLE DEPENDIENTE Y LAS VARIABLES INDEPENDIENTES"
      ]
    },
    {
      "cell_type": "code",
      "metadata": {
        "colab": {
          "base_uri": "https://localhost:8080/",
          "height": 279
        },
        "id": "Q7qGrmnJ8fwB",
        "outputId": "e4d66a2a-af53-43ff-c273-ada1bd291149"
      },
      "source": [
        "#Gasto de Comida y Tamaño de Familia\n",
        "df_consumo.plot(kind = 'scatter' , x = 'Gasto de Comida' , y = 'Tamaño de Familia')\n",
        "plt.show()"
      ],
      "execution_count": null,
      "outputs": [
        {
          "output_type": "display_data",
          "data": {
            "image/png": "[encoded data removed]",
            "text/plain": [
              "<Figure size 432x288 with 1 Axes>"
            ]
          },
          "metadata": {
            "tags": [],
            "needs_background": "light"
          }
        }
      ]
    },
    {
      "cell_type": "code",
      "metadata": {
        "colab": {
          "base_uri": "https://localhost:8080/",
          "height": 279
        },
        "id": "UPhSrxIb-FkN",
        "outputId": "2e372265-eb7e-478d-e6b4-d7bde48ef595"
      },
      "source": [
        "#Gasto de Comida y Ingresos x 1000\n",
        "df_consumo.plot(kind = 'scatter' , x = 'Gasto de Comida' , y = 'Ingresos x 1000')\n",
        "plt.show()"
      ],
      "execution_count": null,
      "outputs": [
        {
          "output_type": "display_data",
          "data": {
            "image/png": "[encoded data removed]",
            "text/plain": [
              "<Figure size 432x288 with 1 Axes>"
            ]
          },
          "metadata": {
            "tags": [],
            "needs_background": "light"
          }
        }
      ]
    },
    {
      "cell_type": "code",
      "metadata": {
        "colab": {
          "base_uri": "https://localhost:8080/",
          "height": 279
        },
        "id": "EXapb6ua-FVK",
        "outputId": "619c2ad2-f71f-454c-9313-d99cdefd8536"
      },
      "source": [
        "#Gasto de Comida e Hijos\n",
        "df_consumo.plot(kind = 'scatter' , x = 'Gasto de Comida' , y = 'Hijos')\n",
        "plt.show()"
      ],
      "execution_count": null,
      "outputs": [
        {
          "output_type": "display_data",
          "data": {
            "image/png": "[encoded data removed]",
            "text/plain": [
              "<Figure size 432x288 with 1 Axes>"
            ]
          },
          "metadata": {
            "tags": [],
            "needs_background": "light"
          }
        }
      ]
    },
    {
      "cell_type": "markdown",
      "metadata": {
        "id": "m_XdEdQs-ZpW"
      },
      "source": [
        "# APLICANDO LA REGRESIÓN LINEAL"
      ]
    },
    {
      "cell_type": "code",
      "metadata": {
        "id": "i_Yo5Srp-fEW"
      },
      "source": [
        "#Importamos las librerias\n",
        "from sklearn import linear_model\n",
        "from sklearn.metrics import r2_score , mean_squared_error , mean_absolute_error"
      ],
      "execution_count": null,
      "outputs": []
    },
    {
      "cell_type": "markdown",
      "metadata": {
        "id": "yxBJcgbx-kUl"
      },
      "source": [
        "## CREAMOS UN MODELO LLAMADO \"regresion_model\""
      ]
    },
    {
      "cell_type": "code",
      "metadata": {
        "id": "Nih0OO9M-iAM"
      },
      "source": [
        "regresion_model = linear_model.LinearRegression()"
      ],
      "execution_count": null,
      "outputs": []
    },
    {
      "cell_type": "code",
      "metadata": {
        "id": "glPBF0mX-iDE"
      },
      "source": [
        "val_inde = ['Ingresos x 1000', 'Tamaño de Familia', 'Hijos'] #Variables independientes\n",
        "val_dep = 'Gasto de Comida' #Variable independiente"
      ],
      "execution_count": null,
      "outputs": []
    },
    {
      "cell_type": "markdown",
      "metadata": {
        "id": "0fLn5JFq-ygH"
      },
      "source": [
        "## SEPARAMOS LAS VARIABLES INDEPENDIENTES EN X y la DEPENDIENTE EN Y"
      ]
    },
    {
      "cell_type": "code",
      "metadata": {
        "id": "GMKc3gtW-6mf"
      },
      "source": [
        "x = df_consumo[val_inde] #INDEPENDIENTE\n",
        "y = df_consumo[val_dep] #DEPENDIENTE"
      ],
      "execution_count": null,
      "outputs": []
    },
    {
      "cell_type": "code",
      "metadata": {
        "colab": {
          "base_uri": "https://localhost:8080/",
          "height": 545
        },
        "id": "ohhucjla-870",
        "outputId": "fe86679c-4de2-486c-bbd5-12a925330fb2"
      },
      "source": [
        "x #Una vista de nuestras columnas de variables independientes"
      ],
      "execution_count": null,
      "outputs": [
        {
          "output_type": "execute_result",
          "data": {
            "text/html": [
              "<div>\n",
              "<style scoped>\n",
              "    .dataframe tbody tr th:only-of-type {\n",
              "        vertical-align: middle;\n",
              "    }\n",
              "\n",
              "    .dataframe tbody tr th {\n",
              "        vertical-align: top;\n",
              "    }\n",
              "\n",
              "    .dataframe thead th {\n",
              "        text-align: right;\n",
              "    }\n",
              "</style>\n",
              "<table border=\"1\" class=\"dataframe\">\n",
              "  <thead>\n",
              "    <tr style=\"text-align: right;\">\n",
              "      <th></th>\n",
              "      <th>Ingresos x 1000</th>\n",
              "      <th>Tamaño de Familia</th>\n",
              "      <th>Hijos</th>\n",
              "    </tr>\n",
              "  </thead>\n",
              "  <tbody>\n",
              "    <tr>\n",
              "      <th>0</th>\n",
              "      <td>0.077491</td>\n",
              "      <td>0.000000</td>\n",
              "      <td>0.0</td>\n",
              "    </tr>\n",
              "    <tr>\n",
              "      <th>1</th>\n",
              "      <td>0.590406</td>\n",
              "      <td>0.333333</td>\n",
              "      <td>1.0</td>\n",
              "    </tr>\n",
              "    <tr>\n",
              "      <th>2</th>\n",
              "      <td>0.594096</td>\n",
              "      <td>0.000000</td>\n",
              "      <td>0.0</td>\n",
              "    </tr>\n",
              "    <tr>\n",
              "      <th>3</th>\n",
              "      <td>0.416974</td>\n",
              "      <td>0.333333</td>\n",
              "      <td>0.0</td>\n",
              "    </tr>\n",
              "    <tr>\n",
              "      <th>4</th>\n",
              "      <td>0.675277</td>\n",
              "      <td>0.666667</td>\n",
              "      <td>1.0</td>\n",
              "    </tr>\n",
              "    <tr>\n",
              "      <th>5</th>\n",
              "      <td>1.000000</td>\n",
              "      <td>1.000000</td>\n",
              "      <td>1.0</td>\n",
              "    </tr>\n",
              "    <tr>\n",
              "      <th>6</th>\n",
              "      <td>0.693727</td>\n",
              "      <td>0.333333</td>\n",
              "      <td>0.0</td>\n",
              "    </tr>\n",
              "    <tr>\n",
              "      <th>7</th>\n",
              "      <td>0.302583</td>\n",
              "      <td>0.000000</td>\n",
              "      <td>0.0</td>\n",
              "    </tr>\n",
              "    <tr>\n",
              "      <th>8</th>\n",
              "      <td>0.933579</td>\n",
              "      <td>0.333333</td>\n",
              "      <td>1.0</td>\n",
              "    </tr>\n",
              "    <tr>\n",
              "      <th>9</th>\n",
              "      <td>0.583026</td>\n",
              "      <td>0.666667</td>\n",
              "      <td>1.0</td>\n",
              "    </tr>\n",
              "    <tr>\n",
              "      <th>10</th>\n",
              "      <td>0.509225</td>\n",
              "      <td>0.666667</td>\n",
              "      <td>1.0</td>\n",
              "    </tr>\n",
              "    <tr>\n",
              "      <th>11</th>\n",
              "      <td>0.767528</td>\n",
              "      <td>0.333333</td>\n",
              "      <td>0.0</td>\n",
              "    </tr>\n",
              "    <tr>\n",
              "      <th>12</th>\n",
              "      <td>0.586716</td>\n",
              "      <td>0.333333</td>\n",
              "      <td>1.0</td>\n",
              "    </tr>\n",
              "    <tr>\n",
              "      <th>13</th>\n",
              "      <td>0.586716</td>\n",
              "      <td>0.000000</td>\n",
              "      <td>0.0</td>\n",
              "    </tr>\n",
              "    <tr>\n",
              "      <th>14</th>\n",
              "      <td>0.000000</td>\n",
              "      <td>0.333333</td>\n",
              "      <td>1.0</td>\n",
              "    </tr>\n",
              "    <tr>\n",
              "      <th>15</th>\n",
              "      <td>0.184502</td>\n",
              "      <td>1.000000</td>\n",
              "      <td>1.0</td>\n",
              "    </tr>\n",
              "  </tbody>\n",
              "</table>\n",
              "</div>"
            ],
            "text/plain": [
              "    Ingresos x 1000  Tamaño de Familia  Hijos\n",
              "0          0.077491           0.000000    0.0\n",
              "1          0.590406           0.333333    1.0\n",
              "2          0.594096           0.000000    0.0\n",
              "3          0.416974           0.333333    0.0\n",
              "4          0.675277           0.666667    1.0\n",
              "5          1.000000           1.000000    1.0\n",
              "6          0.693727           0.333333    0.0\n",
              "7          0.302583           0.000000    0.0\n",
              "8          0.933579           0.333333    1.0\n",
              "9          0.583026           0.666667    1.0\n",
              "10         0.509225           0.666667    1.0\n",
              "11         0.767528           0.333333    0.0\n",
              "12         0.586716           0.333333    1.0\n",
              "13         0.586716           0.000000    0.0\n",
              "14         0.000000           0.333333    1.0\n",
              "15         0.184502           1.000000    1.0"
            ]
          },
          "metadata": {
            "tags": []
          },
          "execution_count": 21
        }
      ]
    },
    {
      "cell_type": "code",
      "metadata": {
        "colab": {
          "base_uri": "https://localhost:8080/"
        },
        "id": "SuIJWwdp-9EE",
        "outputId": "041a6179-f5b2-40e6-ff87-77a83ae394a3"
      },
      "source": [
        "y #Una vista de nuestras columna de variable dependiente"
      ],
      "execution_count": null,
      "outputs": [
        {
          "output_type": "execute_result",
          "data": {
            "text/plain": [
              "0     0.197064\n",
              "1     0.518238\n",
              "2     0.288828\n",
              "3     0.426474\n",
              "4     0.770590\n",
              "5     0.977059\n",
              "6     0.426474\n",
              "7     0.518238\n",
              "8     0.701766\n",
              "9     0.770590\n",
              "10    1.000000\n",
              "11    0.632943\n",
              "12    0.903418\n",
              "13    0.845377\n",
              "14    0.000000\n",
              "15    0.587061\n",
              "Name: Gasto de Comida, dtype: float64"
            ]
          },
          "metadata": {
            "tags": []
          },
          "execution_count": 23
        }
      ]
    },
    {
      "cell_type": "markdown",
      "metadata": {
        "id": "OJPJvRgR_OQj"
      },
      "source": [
        "ENTRENAMOS LOS DATOS AL MODELO DE REGRESIÓN"
      ]
    },
    {
      "cell_type": "code",
      "metadata": {
        "colab": {
          "base_uri": "https://localhost:8080/"
        },
        "id": "J4ZOoKEX_NtY",
        "outputId": "11c7dab2-131a-4e2b-bad1-ab026274fee0"
      },
      "source": [
        "regresion_model.fit(x,y) #fit(\"variable independiente\" , \"variable dependiente\")"
      ],
      "execution_count": null,
      "outputs": [
        {
          "output_type": "execute_result",
          "data": {
            "text/plain": [
              "LinearRegression(copy_X=True, fit_intercept=True, n_jobs=None, normalize=False)"
            ]
          },
          "metadata": {
            "tags": []
          },
          "execution_count": 22
        }
      ]
    },
    {
      "cell_type": "markdown",
      "metadata": {
        "id": "3UNv9sha_XKe"
      },
      "source": [
        "Una vez entrenado el modelo con los datos , podemos sacar algunos datos interesantes de estos:"
      ]
    },
    {
      "cell_type": "code",
      "metadata": {
        "colab": {
          "base_uri": "https://localhost:8080/"
        },
        "id": "QGPRWmvc_kzS",
        "outputId": "e7196d6d-fc4d-4ff1-bb27-925d5b022aee"
      },
      "source": [
        "regresion_model.coef_  #sacar el coeficiente de regresión lineal de cada variable dependiente\n",
        "#'Ingresos x 1000', 'Tamaño de Familia', 'Hijos'"
      ],
      "execution_count": null,
      "outputs": [
        {
          "output_type": "execute_result",
          "data": {
            "text/plain": [
              "array([0.57821525, 0.21975505, 0.07558062])"
            ]
          },
          "metadata": {
            "tags": []
          },
          "execution_count": 24
        }
      ]
    },
    {
      "cell_type": "markdown",
      "metadata": {
        "id": "EjL9XsKT__Nn"
      },
      "source": [
        "MOSTRAR LA ECUACIÓN DE LA RECTA"
      ]
    },
    {
      "cell_type": "code",
      "metadata": {
        "id": "wG1XCiV-_7Rd"
      },
      "source": [
        "#Creamos variables para poner un coeficiente en cada variable\n",
        "m1 = regresion_model.coef_[0]\n",
        "m2 = regresion_model.coef_[1]\n",
        "m3 = regresion_model.coef_[2]"
      ],
      "execution_count": null,
      "outputs": []
    },
    {
      "cell_type": "code",
      "metadata": {
        "colab": {
          "base_uri": "https://localhost:8080/"
        },
        "id": "oreUDG37AE1o",
        "outputId": "86624733-e6f0-4176-f987-14561cbff526"
      },
      "source": [
        "b = regresion_model.intercept_ #intercepto de la regresión lineal\n",
        "b"
      ],
      "execution_count": null,
      "outputs": [
        {
          "output_type": "execute_result",
          "data": {
            "text/plain": [
              "0.16101351508926193"
            ]
          },
          "metadata": {
            "tags": []
          },
          "execution_count": 26
        }
      ]
    },
    {
      "cell_type": "code",
      "metadata": {
        "colab": {
          "base_uri": "https://localhost:8080/",
          "height": 52
        },
        "id": "kYzzrVDqAIKQ",
        "outputId": "b6479e44-350c-43c9-d2b6-c6f2f4c38a9c"
      },
      "source": [
        "word = f'y = {b}  + {m1} * x1 + {m2} * x2 + {m3} * x3'\n",
        "print('La ecuación de la recta es:')\n",
        "word"
      ],
      "execution_count": null,
      "outputs": [
        {
          "output_type": "stream",
          "text": [
            "La ecuación de la recta es:\n"
          ],
          "name": "stdout"
        },
        {
          "output_type": "execute_result",
          "data": {
            "application/vnd.google.colaboratory.intrinsic+json": {
              "type": "string"
            },
            "text/plain": [
              "'y = 0.16101351508926193  + 0.5782152461992952 * x1 + 0.21975504706277968 * x2 + 0.07558062160078098 * x3'"
            ]
          },
          "metadata": {
            "tags": []
          },
          "execution_count": 27
        }
      ]
    },
    {
      "cell_type": "markdown",
      "metadata": {
        "id": "0wQ1QxbWANFp"
      },
      "source": [
        "Ahora haremos predicciones con la regresión lineal"
      ]
    },
    {
      "cell_type": "markdown",
      "metadata": {
        "id": "F5Epe8VDAVZ_"
      },
      "source": [
        "## PREDICIENDO CON LA REGRESIÓN LINEAL"
      ]
    },
    {
      "cell_type": "code",
      "metadata": {
        "colab": {
          "base_uri": "https://localhost:8080/"
        },
        "id": "6Vk8Qx3lALsy",
        "outputId": "1c06b5c5-ac9c-42f8-dc81-fc8e0e5a91d4"
      },
      "source": [
        "gasto_comida_estimado = regresion_model.predict(x) #Predeciremos con las variables que hemos puesto en x\n",
        "gasto_comida_estimado #Nos da valores predecidos en un array"
      ],
      "execution_count": null,
      "outputs": [
        {
          "output_type": "execute_result",
          "data": {
            "text/plain": [
              "array([0.20581986, 0.65122751, 0.50452885, 0.47536602, 0.77355282,\n",
              "       1.03456443, 0.63538869, 0.33597163, 0.84965562, 0.72021193,\n",
              "       0.67753921, 0.6780614 , 0.64909388, 0.50026157, 0.30984582,\n",
              "       0.56303096])"
            ]
          },
          "metadata": {
            "tags": []
          },
          "execution_count": 28
        }
      ]
    },
    {
      "cell_type": "code",
      "metadata": {
        "colab": {
          "base_uri": "https://localhost:8080/",
          "height": 545
        },
        "id": "n3R-NZ9yAeXI",
        "outputId": "2b04941b-a9ac-465b-a97e-87d9c345eaaf"
      },
      "source": [
        "#Esos valores predecidos lo insertamos a nuestro dataset df_consumo como una columna nueva\n",
        "df_consumo['gasto_comida_estimado'] = gasto_comida_estimado\n",
        "df_consumo"
      ],
      "execution_count": null,
      "outputs": [
        {
          "output_type": "execute_result",
          "data": {
            "text/html": [
              "<div>\n",
              "<style scoped>\n",
              "    .dataframe tbody tr th:only-of-type {\n",
              "        vertical-align: middle;\n",
              "    }\n",
              "\n",
              "    .dataframe tbody tr th {\n",
              "        vertical-align: top;\n",
              "    }\n",
              "\n",
              "    .dataframe thead th {\n",
              "        text-align: right;\n",
              "    }\n",
              "</style>\n",
              "<table border=\"1\" class=\"dataframe\">\n",
              "  <thead>\n",
              "    <tr style=\"text-align: right;\">\n",
              "      <th></th>\n",
              "      <th>Gasto de Comida</th>\n",
              "      <th>Ingresos x 1000</th>\n",
              "      <th>Tamaño de Familia</th>\n",
              "      <th>Hijos</th>\n",
              "      <th>gasto_comida_estimado</th>\n",
              "    </tr>\n",
              "  </thead>\n",
              "  <tbody>\n",
              "    <tr>\n",
              "      <th>0</th>\n",
              "      <td>0.197064</td>\n",
              "      <td>0.077491</td>\n",
              "      <td>0.000000</td>\n",
              "      <td>0.0</td>\n",
              "      <td>0.205820</td>\n",
              "    </tr>\n",
              "    <tr>\n",
              "      <th>1</th>\n",
              "      <td>0.518238</td>\n",
              "      <td>0.590406</td>\n",
              "      <td>0.333333</td>\n",
              "      <td>1.0</td>\n",
              "      <td>0.651228</td>\n",
              "    </tr>\n",
              "    <tr>\n",
              "      <th>2</th>\n",
              "      <td>0.288828</td>\n",
              "      <td>0.594096</td>\n",
              "      <td>0.000000</td>\n",
              "      <td>0.0</td>\n",
              "      <td>0.504529</td>\n",
              "    </tr>\n",
              "    <tr>\n",
              "      <th>3</th>\n",
              "      <td>0.426474</td>\n",
              "      <td>0.416974</td>\n",
              "      <td>0.333333</td>\n",
              "      <td>0.0</td>\n",
              "      <td>0.475366</td>\n",
              "    </tr>\n",
              "    <tr>\n",
              "      <th>4</th>\n",
              "      <td>0.770590</td>\n",
              "      <td>0.675277</td>\n",
              "      <td>0.666667</td>\n",
              "      <td>1.0</td>\n",
              "      <td>0.773553</td>\n",
              "    </tr>\n",
              "    <tr>\n",
              "      <th>5</th>\n",
              "      <td>0.977059</td>\n",
              "      <td>1.000000</td>\n",
              "      <td>1.000000</td>\n",
              "      <td>1.0</td>\n",
              "      <td>1.034564</td>\n",
              "    </tr>\n",
              "    <tr>\n",
              "      <th>6</th>\n",
              "      <td>0.426474</td>\n",
              "      <td>0.693727</td>\n",
              "      <td>0.333333</td>\n",
              "      <td>0.0</td>\n",
              "      <td>0.635389</td>\n",
              "    </tr>\n",
              "    <tr>\n",
              "      <th>7</th>\n",
              "      <td>0.518238</td>\n",
              "      <td>0.302583</td>\n",
              "      <td>0.000000</td>\n",
              "      <td>0.0</td>\n",
              "      <td>0.335972</td>\n",
              "    </tr>\n",
              "    <tr>\n",
              "      <th>8</th>\n",
              "      <td>0.701766</td>\n",
              "      <td>0.933579</td>\n",
              "      <td>0.333333</td>\n",
              "      <td>1.0</td>\n",
              "      <td>0.849656</td>\n",
              "    </tr>\n",
              "    <tr>\n",
              "      <th>9</th>\n",
              "      <td>0.770590</td>\n",
              "      <td>0.583026</td>\n",
              "      <td>0.666667</td>\n",
              "      <td>1.0</td>\n",
              "      <td>0.720212</td>\n",
              "    </tr>\n",
              "    <tr>\n",
              "      <th>10</th>\n",
              "      <td>1.000000</td>\n",
              "      <td>0.509225</td>\n",
              "      <td>0.666667</td>\n",
              "      <td>1.0</td>\n",
              "      <td>0.677539</td>\n",
              "    </tr>\n",
              "    <tr>\n",
              "      <th>11</th>\n",
              "      <td>0.632943</td>\n",
              "      <td>0.767528</td>\n",
              "      <td>0.333333</td>\n",
              "      <td>0.0</td>\n",
              "      <td>0.678061</td>\n",
              "    </tr>\n",
              "    <tr>\n",
              "      <th>12</th>\n",
              "      <td>0.903418</td>\n",
              "      <td>0.586716</td>\n",
              "      <td>0.333333</td>\n",
              "      <td>1.0</td>\n",
              "      <td>0.649094</td>\n",
              "    </tr>\n",
              "    <tr>\n",
              "      <th>13</th>\n",
              "      <td>0.845377</td>\n",
              "      <td>0.586716</td>\n",
              "      <td>0.000000</td>\n",
              "      <td>0.0</td>\n",
              "      <td>0.500262</td>\n",
              "    </tr>\n",
              "    <tr>\n",
              "      <th>14</th>\n",
              "      <td>0.000000</td>\n",
              "      <td>0.000000</td>\n",
              "      <td>0.333333</td>\n",
              "      <td>1.0</td>\n",
              "      <td>0.309846</td>\n",
              "    </tr>\n",
              "    <tr>\n",
              "      <th>15</th>\n",
              "      <td>0.587061</td>\n",
              "      <td>0.184502</td>\n",
              "      <td>1.000000</td>\n",
              "      <td>1.0</td>\n",
              "      <td>0.563031</td>\n",
              "    </tr>\n",
              "  </tbody>\n",
              "</table>\n",
              "</div>"
            ],
            "text/plain": [
              "    Gasto de Comida  Ingresos x 1000  ...  Hijos  gasto_comida_estimado\n",
              "0          0.197064         0.077491  ...    0.0               0.205820\n",
              "1          0.518238         0.590406  ...    1.0               0.651228\n",
              "2          0.288828         0.594096  ...    0.0               0.504529\n",
              "3          0.426474         0.416974  ...    0.0               0.475366\n",
              "4          0.770590         0.675277  ...    1.0               0.773553\n",
              "5          0.977059         1.000000  ...    1.0               1.034564\n",
              "6          0.426474         0.693727  ...    0.0               0.635389\n",
              "7          0.518238         0.302583  ...    0.0               0.335972\n",
              "8          0.701766         0.933579  ...    1.0               0.849656\n",
              "9          0.770590         0.583026  ...    1.0               0.720212\n",
              "10         1.000000         0.509225  ...    1.0               0.677539\n",
              "11         0.632943         0.767528  ...    0.0               0.678061\n",
              "12         0.903418         0.586716  ...    1.0               0.649094\n",
              "13         0.845377         0.586716  ...    0.0               0.500262\n",
              "14         0.000000         0.000000  ...    1.0               0.309846\n",
              "15         0.587061         0.184502  ...    1.0               0.563031\n",
              "\n",
              "[16 rows x 5 columns]"
            ]
          },
          "metadata": {
            "tags": []
          },
          "execution_count": 29
        }
      ]
    },
    {
      "cell_type": "markdown",
      "metadata": {
        "id": "aUApZz_CAydY"
      },
      "source": [
        "Con los valores predecidos podemos sacar los errores y su R-square"
      ]
    },
    {
      "cell_type": "markdown",
      "metadata": {
        "id": "Drfo2xtEA6eJ"
      },
      "source": [
        "## R SQUARE"
      ]
    },
    {
      "cell_type": "code",
      "metadata": {
        "colab": {
          "base_uri": "https://localhost:8080/"
        },
        "id": "4P_flHpRAxNq",
        "outputId": "80f80327-7d8c-4150-ebe9-0b97cc15b2b4"
      },
      "source": [
        "R_square = r2_score(y , gasto_comida_estimado) #Para medir el nivel de eficiencia del modelo \n",
        "#r2_score(\"valor real\" , \"valor predecido\")\n",
        "R_square"
      ],
      "execution_count": null,
      "outputs": [
        {
          "output_type": "execute_result",
          "data": {
            "text/plain": [
              "0.5417613801942427"
            ]
          },
          "metadata": {
            "tags": []
          },
          "execution_count": 47
        }
      ]
    },
    {
      "cell_type": "markdown",
      "metadata": {
        "id": "2GGYCG_OBERY"
      },
      "source": [
        "## ERRORES TÍPICOS"
      ]
    },
    {
      "cell_type": "code",
      "metadata": {
        "colab": {
          "base_uri": "https://localhost:8080/"
        },
        "id": "Sj10Cbb0AxXD",
        "outputId": "cd3dd69b-7e58-4b58-9bf3-9134642215a4"
      },
      "source": [
        "#MAE\n",
        "mae = mean_absolute_error(y , gasto_comida_estimado)\n",
        "mae"
      ],
      "execution_count": null,
      "outputs": [
        {
          "output_type": "execute_result",
          "data": {
            "text/plain": [
              "0.1473219213952619"
            ]
          },
          "metadata": {
            "tags": []
          },
          "execution_count": 48
        }
      ]
    },
    {
      "cell_type": "code",
      "metadata": {
        "colab": {
          "base_uri": "https://localhost:8080/"
        },
        "id": "HED7P9MKAxeQ",
        "outputId": "80c40de4-27b4-4476-f038-cd317bab5640"
      },
      "source": [
        "#MSE\n",
        "mse = mean_squared_error(y , gasto_comida_estimado)\n",
        "mse"
      ],
      "execution_count": null,
      "outputs": [
        {
          "output_type": "execute_result",
          "data": {
            "text/plain": [
              "0.03485348413170536"
            ]
          },
          "metadata": {
            "tags": []
          },
          "execution_count": 49
        }
      ]
    },
    {
      "cell_type": "code",
      "metadata": {
        "colab": {
          "base_uri": "https://localhost:8080/"
        },
        "id": "352WAOi5BJg4",
        "outputId": "a5342c8d-31d1-4dee-8c93-f14d507763fc"
      },
      "source": [
        "#RMSE\n",
        "rmse = mse ** 0.5\n",
        "rmse"
      ],
      "execution_count": null,
      "outputs": [
        {
          "output_type": "execute_result",
          "data": {
            "text/plain": [
              "0.18669087854446814"
            ]
          },
          "metadata": {
            "tags": []
          },
          "execution_count": 50
        }
      ]
    },
    {
      "cell_type": "markdown",
      "metadata": {
        "id": "C9Rbjy2xBYS8"
      },
      "source": [
        "Por último , no hay que olvidarnos del P VALUE"
      ]
    },
    {
      "cell_type": "markdown",
      "metadata": {
        "id": "KMaLCD2hBSB5"
      },
      "source": [
        "## P VALUE"
      ]
    },
    {
      "cell_type": "code",
      "metadata": {
        "id": "oRFpDWfIuO8Y"
      },
      "source": [
        "import statsmodels.api as sm\n",
        "from scipy import stats\n",
        "X2 = sm.add_constant(x)\n",
        "est = sm.OLS(y, X2)"
      ],
      "execution_count": null,
      "outputs": []
    },
    {
      "cell_type": "code",
      "metadata": {
        "colab": {
          "base_uri": "https://localhost:8080/"
        },
        "id": "OV_E3eUeuaxk",
        "outputId": "8a31eb45-f505-4daf-d082-a2c6923c8d4e"
      },
      "source": [
        "est2 = est.fit()\n",
        "print(est2.summary())"
      ],
      "execution_count": null,
      "outputs": [
        {
          "output_type": "stream",
          "text": [
            "                            OLS Regression Results                            \n",
            "==============================================================================\n",
            "Dep. Variable:        Gasto de Comida   R-squared:                       0.542\n",
            "Model:                            OLS   Adj. R-squared:                  0.427\n",
            "Method:                 Least Squares   F-statistic:                     4.729\n",
            "Date:                Tue, 08 Jun 2021   Prob (F-statistic):             0.0211\n",
            "Time:                        17:44:24   Log-Likelihood:                 4.1498\n",
            "No. Observations:                  16   AIC:                           -0.2996\n",
            "Df Residuals:                      12   BIC:                             2.791\n",
            "Df Model:                           3                                         \n",
            "Covariance Type:            nonrobust                                         \n",
            "=====================================================================================\n",
            "                        coef    std err          t      P>|t|      [0.025      0.975]\n",
            "-------------------------------------------------------------------------------------\n",
            "const                 0.1610      0.129      1.252      0.235      -0.119       0.441\n",
            "Ingresos x 1000       0.5782      0.205      2.820      0.015       0.131       1.025\n",
            "Tamaño de Familia     0.2198      0.245      0.896      0.388      -0.315       0.754\n",
            "Hijos                 0.0756      0.153      0.493      0.631      -0.258       0.410\n",
            "==============================================================================\n",
            "Omnibus:                        0.815   Durbin-Watson:                   2.200\n",
            "Prob(Omnibus):                  0.665   Jarque-Bera (JB):                0.784\n",
            "Skew:                           0.407   Prob(JB):                        0.676\n",
            "Kurtosis:                       2.284   Cond. No.                         7.05\n",
            "==============================================================================\n",
            "\n",
            "Warnings:\n",
            "[1] Standard Errors assume that the covariance matrix of the errors is correctly specified.\n"
          ],
          "name": "stdout"
        },
        {
          "output_type": "stream",
          "text": [
            "/usr/local/lib/python3.7/dist-packages/scipy/stats/stats.py:1535: UserWarning: kurtosistest only valid for n>=20 ... continuing anyway, n=16\n",
            "  \"anyway, n=%i\" % int(n))\n"
          ],
          "name": "stderr"
        }
      ]
    },
    {
      "cell_type": "markdown",
      "metadata": {
        "id": "RBXdatCDuw0U"
      },
      "source": [
        "P > | t | : P VALUE\n",
        "\n",
        "De aquí podemos ver :\n",
        "\n",
        "Ingresos x 1000 tiene un p value 0.015 , significa que tiene significancia en el modelo\n",
        "\n",
        "Tamaño de Familia un p value 0.388 , no tiene significancia en el modelo\n",
        "\n",
        "Hijos un p value 0.631 , no tiene significancia en el modelo"
      ]
    }
  ]
}